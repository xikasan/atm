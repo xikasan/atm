{
 "cells": [
  {
   "cell_type": "code",
   "execution_count": 1,
   "outputs": [],
   "source": [
    "import numpy as np\n",
    "import pandas as pd\n",
    "import matplotlib.pyplot as plt\n",
    "import matplotlib.patches as patches\n",
    "import xtools as xt\n",
    "\n",
    "from scipy.linalg import block_diag\n",
    "from openjij import SQASampler, SASampler\n",
    "\n",
    "from atm.flight.generator import ScenarioGenerator\n",
    "from atm.separation import recat\n"
   ],
   "metadata": {
    "collapsed": false,
    "pycharm": {
     "name": "#%%\n"
    }
   }
  },
  {
   "cell_type": "code",
   "execution_count": 2,
   "outputs": [],
   "source": [
    "cf = xt.Config(dict(\n",
    "    dt=10,\n",
    "    num=3,\n",
    "    scenario=dict(\n",
    "        interval=120,\n",
    "        window=120,\n",
    "        mode=\"mix\",\n",
    "        standard=\"recat\"\n",
    "    )\n",
    "))\n"
   ],
   "metadata": {
    "collapsed": false,
    "pycharm": {
     "name": "#%%\n"
    }
   }
  },
  {
   "cell_type": "code",
   "execution_count": 16,
   "outputs": [],
   "source": [
    "pattern = recat.SeparationPattern\n",
    "pattern.reparameterize(dt=cf.dt, max_time_window=cf.scenario.window)\n",
    "\n",
    "sgen = ScenarioGenerator(cf.scenario)\n",
    "vols = sgen(cf.num)\n",
    "\n",
    "num_slot = cf.scenario.window // cf.dt\n",
    "num_qubit = num_slot * cf.num\n"
   ],
   "metadata": {
    "collapsed": false,
    "pycharm": {
     "name": "#%%\n"
    }
   }
  },
  {
   "cell_type": "code",
   "execution_count": 17,
   "outputs": [
    {
     "name": "stdout",
     "output_type": "stream",
     "text": [
      "( Flight(VOL0001: [54-174] wtc:B ope:A) , Flight(VOL0001: [54-174] wtc:B ope:A) ): (12, 12)\n",
      "( Flight(VOL0001: [54-174] wtc:B ope:A) , Flight(VOL0002: [130-250] wtc:E ope:D) ): (12, 12)\n",
      "( Flight(VOL0001: [54-174] wtc:B ope:A) , Flight(VOL0003: [332-452] wtc:A ope:D) ): (12, 12)\n",
      "(12, 36)\n",
      "( Flight(VOL0002: [130-250] wtc:E ope:D) , Flight(VOL0001: [54-174] wtc:B ope:A) ): (12, 12)\n",
      "( Flight(VOL0002: [130-250] wtc:E ope:D) , Flight(VOL0002: [130-250] wtc:E ope:D) ): (12, 12)\n",
      "( Flight(VOL0002: [130-250] wtc:E ope:D) , Flight(VOL0003: [332-452] wtc:A ope:D) ): (12, 12)\n",
      "(12, 36)\n",
      "( Flight(VOL0003: [332-452] wtc:A ope:D) , Flight(VOL0001: [54-174] wtc:B ope:A) ): (12, 12)\n",
      "( Flight(VOL0003: [332-452] wtc:A ope:D) , Flight(VOL0002: [130-250] wtc:E ope:D) ): (12, 12)\n",
      "( Flight(VOL0003: [332-452] wtc:A ope:D) , Flight(VOL0003: [332-452] wtc:A ope:D) ): (12, 12)\n",
      "(12, 36)\n"
     ]
    }
   ],
   "source": [
    "costs = []\n",
    "for id1, vol1 in enumerate(vols):\n",
    "    costs_row = []\n",
    "    for id2, vol2 in enumerate(vols):\n",
    "        print(\"(\", vol1, \",\", vol2, \"):\", pattern.retrieve_table(vol1, vol2).shape)\n",
    "        if vol1 == vol2:\n",
    "            costs_row.append(np.zeros((num_slot, num_slot)))\n",
    "            continue\n",
    "        # print(\"\")\n",
    "        costs_row.append(pattern.retrieve_table(vol1, vol2))\n",
    "    cost_row = np.hstack(costs_row)\n",
    "    print(cost_row.shape)\n",
    "    costs.append(cost_row)"
   ],
   "metadata": {
    "collapsed": false,
    "pycharm": {
     "name": "#%%\n"
    }
   }
  },
  {
   "cell_type": "code",
   "execution_count": 19,
   "outputs": [
    {
     "data": {
      "text/plain": "<matplotlib.colorbar.Colorbar at 0x16be80370>"
     },
     "execution_count": 19,
     "metadata": {},
     "output_type": "execute_result"
    },
    {
     "data": {
      "text/plain": "<Figure size 432x288 with 2 Axes>",
      "image/png": "[encoded data removed]"
     },
     "metadata": {
      "needs_background": "light"
     },
     "output_type": "display_data"
    }
   ],
   "source": [
    "q_sep = np.vstack(costs)\n",
    "plt.imshow(q_sep)\n",
    "plt.colorbar()"
   ],
   "metadata": {
    "collapsed": false,
    "pycharm": {
     "name": "#%%\n"
    }
   }
  },
  {
   "cell_type": "code",
   "execution_count": null,
   "outputs": [],
   "source": [],
   "metadata": {
    "collapsed": false,
    "pycharm": {
     "name": "#%%\n"
    }
   }
  }
 ],
 "metadata": {
  "kernelspec": {
   "display_name": "Python 3",
   "language": "python",
   "name": "python3"
  },
  "language_info": {
   "codemirror_mode": {
    "name": "ipython",
    "version": 2
   },
   "file_extension": ".py",
   "mimetype": "text/x-python",
   "name": "python",
   "nbconvert_exporter": "python",
   "pygments_lexer": "ipython2",
   "version": "2.7.6"
  }
 },
 "nbformat": 4,
 "nbformat_minor": 0
}