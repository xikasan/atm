{
 "cells": [
  {
   "cell_type": "code",
   "execution_count": 76,
   "outputs": [],
   "source": [
    "import xtools as xt\n",
    "import numpy as np\n",
    "import matplotlib.pyplot as plt\n",
    "import matplotlib.patches as patches\n",
    "\n",
    "from past_atm.flight.flight import DUMMY_FLIGHT_RECAT\n",
    "from past_atm.flight.scenario import ScenarioGenerator\n",
    "from past_atm.separation import recat"
   ],
   "metadata": {
    "collapsed": false,
    "pycharm": {
     "name": "#%%\n"
    }
   }
  },
  {
   "cell_type": "code",
   "execution_count": 84,
   "outputs": [],
   "source": [
    "config_name = \"config.yaml\"\n",
    "cf = xt.Config(config_name)"
   ],
   "metadata": {
    "collapsed": false,
    "pycharm": {
     "name": "#%%\n"
    }
   }
  },
  {
   "cell_type": "code",
   "execution_count": 85,
   "outputs": [],
   "source": [
    "sgen = ScenarioGenerator(cf.scenario)\n",
    "vols = sgen(10)\n",
    "dvols = vols.to_dataframe()"
   ],
   "metadata": {
    "collapsed": false,
    "pycharm": {
     "name": "#%%\n"
    }
   }
  },
  {
   "cell_type": "code",
   "execution_count": 86,
   "outputs": [],
   "source": [
    "separation = recat.TBS"
   ],
   "metadata": {
    "collapsed": false,
    "pycharm": {
     "name": "#%%\n"
    }
   }
  },
  {
   "cell_type": "code",
   "execution_count": 91,
   "outputs": [],
   "source": [
    "MERGIN = 10\n",
    "last_vol = DUMMY_FLIGHT_RECAT\n",
    "last_time = last_vol.ready\n",
    "assign_times = []\n",
    "separations = []\n",
    "for vol in vols:\n",
    "    sep = separation(last_vol, vol)\n",
    "    time = np.max([last_time + sep + MERGIN, vol.ready])\n",
    "    assign_times.append(time)\n",
    "    separations.append(sep)\n",
    "\n",
    "    last_vol = vol\n",
    "    last_time = time\n",
    "dvols[\"assign\"] = assign_times"
   ],
   "metadata": {
    "collapsed": false,
    "pycharm": {
     "name": "#%%\n"
    }
   }
  },
  {
   "cell_type": "code",
   "execution_count": 92,
   "outputs": [
    {
     "data": {
      "text/plain": "      code  ready   due category operation  assign\n0  VOL0001     24   324        A         D      24\n1  VOL0002    115   415        D         A     163\n2  VOL0003    144   444        B         A     247\n3  VOL0004    172   472        A         D     330\n4  VOL0005    199   499        F         A     546\n5  VOL0006    276   576        B         D     638\n6  VOL0007    284   584        F         A     828\n7  VOL0008    330   630        F         D     936\n8  VOL0009    569   869        F         A    1044\n9  VOL0010    889  1189        E         A    1136",
      "text/html": "<div>\n<style scoped>\n    .dataframe tbody tr th:only-of-type {\n        vertical-align: middle;\n    }\n\n    .dataframe tbody tr th {\n        vertical-align: top;\n    }\n\n    .dataframe thead th {\n        text-align: right;\n    }\n</style>\n<table border=\"1\" class=\"dataframe\">\n  <thead>\n    <tr style=\"text-align: right;\">\n      <th></th>\n      <th>code</th>\n      <th>ready</th>\n      <th>due</th>\n      <th>category</th>\n      <th>operation</th>\n      <th>assign</th>\n    </tr>\n  </thead>\n  <tbody>\n    <tr>\n      <th>0</th>\n      <td>VOL0001</td>\n      <td>24</td>\n      <td>324</td>\n      <td>A</td>\n      <td>D</td>\n      <td>24</td>\n    </tr>\n    <tr>\n      <th>1</th>\n      <td>VOL0002</td>\n      <td>115</td>\n      <td>415</td>\n      <td>D</td>\n      <td>A</td>\n      <td>163</td>\n    </tr>\n    <tr>\n      <th>2</th>\n      <td>VOL0003</td>\n      <td>144</td>\n      <td>444</td>\n      <td>B</td>\n      <td>A</td>\n      <td>247</td>\n    </tr>\n    <tr>\n      <th>3</th>\n      <td>VOL0004</td>\n      <td>172</td>\n      <td>472</td>\n      <td>A</td>\n      <td>D</td>\n      <td>330</td>\n    </tr>\n    <tr>\n      <th>4</th>\n      <td>VOL0005</td>\n      <td>199</td>\n      <td>499</td>\n      <td>F</td>\n      <td>A</td>\n      <td>546</td>\n    </tr>\n    <tr>\n      <th>5</th>\n      <td>VOL0006</td>\n      <td>276</td>\n      <td>576</td>\n      <td>B</td>\n      <td>D</td>\n      <td>638</td>\n    </tr>\n    <tr>\n      <th>6</th>\n      <td>VOL0007</td>\n      <td>284</td>\n      <td>584</td>\n      <td>F</td>\n      <td>A</td>\n      <td>828</td>\n    </tr>\n    <tr>\n      <th>7</th>\n      <td>VOL0008</td>\n      <td>330</td>\n      <td>630</td>\n      <td>F</td>\n      <td>D</td>\n      <td>936</td>\n    </tr>\n    <tr>\n      <th>8</th>\n      <td>VOL0009</td>\n      <td>569</td>\n      <td>869</td>\n      <td>F</td>\n      <td>A</td>\n      <td>1044</td>\n    </tr>\n    <tr>\n      <th>9</th>\n      <td>VOL0010</td>\n      <td>889</td>\n      <td>1189</td>\n      <td>E</td>\n      <td>A</td>\n      <td>1136</td>\n    </tr>\n  </tbody>\n</table>\n</div>"
     },
     "execution_count": 92,
     "metadata": {},
     "output_type": "execute_result"
    }
   ],
   "source": [
    "dvols"
   ],
   "metadata": {
    "collapsed": false,
    "pycharm": {
     "name": "#%%\n"
    }
   }
  },
  {
   "cell_type": "code",
   "execution_count": 93,
   "outputs": [
    {
     "data": {
      "text/plain": "[129, 74, 73, 206, 82, 180, 98, 98, 82]"
     },
     "execution_count": 93,
     "metadata": {},
     "output_type": "execute_result"
    }
   ],
   "source": [
    "separations = separations[1:]\n",
    "separations"
   ],
   "metadata": {
    "collapsed": false,
    "pycharm": {
     "name": "#%%\n"
    }
   }
  },
  {
   "cell_type": "code",
   "execution_count": 94,
   "outputs": [
    {
     "data": {
      "text/plain": "(0.0, 1236.0)"
     },
     "execution_count": 94,
     "metadata": {},
     "output_type": "execute_result"
    },
    {
     "data": {
      "text/plain": "<Figure size 1440x216 with 1 Axes>",
      "image/png": "[encoded data removed]"
     },
     "metadata": {
      "needs_background": "light"
     },
     "output_type": "display_data"
    }
   ],
   "source": [
    "fig, ax = plt.subplots(figsize=(20, 3))\n",
    "for i, sep in enumerate(separations):\n",
    "    time_de = assign_times[i]\n",
    "    time_to = assign_times[i] + sep\n",
    "    ax.plot([time_de, time_to], [0,]*2, c=\"orange\")\n",
    "ax.scatter(x=assign_times, y=[0,]*len(assign_times))\n",
    "ax.set_xlim([0, max(assign_times)+100])"
   ],
   "metadata": {
    "collapsed": false,
    "pycharm": {
     "name": "#%%\n"
    }
   }
  },
  {
   "cell_type": "code",
   "execution_count": null,
   "outputs": [],
   "source": [],
   "metadata": {
    "collapsed": false,
    "pycharm": {
     "name": "#%%\n"
    }
   }
  }
 ],
 "metadata": {
  "kernelspec": {
   "display_name": "Python 3",
   "language": "python",
   "name": "python3"
  },
  "language_info": {
   "codemirror_mode": {
    "name": "ipython",
    "version": 2
   },
   "file_extension": ".py",
   "mimetype": "text/x-python",
   "name": "python",
   "nbconvert_exporter": "python",
   "pygments_lexer": "ipython2",
   "version": "2.7.6"
  }
 },
 "nbformat": 4,
 "nbformat_minor": 0
}