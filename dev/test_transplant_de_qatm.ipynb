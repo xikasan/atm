{
 "cells": [
  {
   "cell_type": "code",
   "execution_count": 67,
   "outputs": [],
   "source": [
    "import xtools as xt\n",
    "import numpy as np\n",
    "import matplotlib.pyplot as plt\n",
    "import matplotlib.patches as patches\n",
    "\n",
    "from atm.flight.flight import DUMMY_FLIGHT_RECAT\n",
    "from atm.flight.scenario import ScenarioGenerator\n",
    "from atm.separation import recat"
   ],
   "metadata": {
    "collapsed": false,
    "pycharm": {
     "name": "#%%\n"
    }
   }
  },
  {
   "cell_type": "code",
   "execution_count": 12,
   "outputs": [],
   "source": [
    "config_name = \"config.yaml\"\n",
    "cf = xt.Config(config_name)"
   ],
   "metadata": {
    "collapsed": false,
    "pycharm": {
     "name": "#%%\n"
    }
   }
  },
  {
   "cell_type": "code",
   "execution_count": 61,
   "outputs": [],
   "source": [
    "sgen = ScenarioGenerator(cf.scenario)\n",
    "vols = sgen(10)\n",
    "dvols = vols.to_dataframe()"
   ],
   "metadata": {
    "collapsed": false,
    "pycharm": {
     "name": "#%%\n"
    }
   }
  },
  {
   "cell_type": "code",
   "execution_count": 62,
   "outputs": [],
   "source": [
    "separation = recat.TBS"
   ],
   "metadata": {
    "collapsed": false,
    "pycharm": {
     "name": "#%%\n"
    }
   }
  },
  {
   "cell_type": "code",
   "execution_count": 63,
   "outputs": [],
   "source": [
    "last_vol = DUMMY_FLIGHT_RECAT\n",
    "last_time = last_vol.ready\n",
    "assign_times = []\n",
    "separations = []\n",
    "for vol in vols:\n",
    "    sep = separation(last_vol, vol)\n",
    "    time = np.max([last_time + sep, vol.ready])\n",
    "    assign_times.append(time)\n",
    "    separations.append(sep)\n",
    "\n",
    "    last_vol = vol\n",
    "    last_time = time\n",
    "dvols[\"assign\"] = assign_times"
   ],
   "metadata": {
    "collapsed": false,
    "pycharm": {
     "name": "#%%\n"
    }
   }
  },
  {
   "cell_type": "code",
   "execution_count": 64,
   "outputs": [
    {
     "data": {
      "text/plain": "      code  ready  due category operation  assign\n0  VOL0001    116  416        A         A     116\n1  VOL0002    187  487        B         D     219\n2  VOL0003    251  551        A         D     292\n3  VOL0004    266  566        C         D     421\n4  VOL0005    347  647        D         D     511\n5  VOL0006    461  761        F         A     659\n6  VOL0007    532  832        F         A     757\n7  VOL0008    570  870        C         A     839\n8  VOL0009    644  944        A         A     914\n9  VOL0010    654  954        C         D    1043",
      "text/html": "<div>\n<style scoped>\n    .dataframe tbody tr th:only-of-type {\n        vertical-align: middle;\n    }\n\n    .dataframe tbody tr th {\n        vertical-align: top;\n    }\n\n    .dataframe thead th {\n        text-align: right;\n    }\n</style>\n<table border=\"1\" class=\"dataframe\">\n  <thead>\n    <tr style=\"text-align: right;\">\n      <th></th>\n      <th>code</th>\n      <th>ready</th>\n      <th>due</th>\n      <th>category</th>\n      <th>operation</th>\n      <th>assign</th>\n    </tr>\n  </thead>\n  <tbody>\n    <tr>\n      <th>0</th>\n      <td>VOL0001</td>\n      <td>116</td>\n      <td>416</td>\n      <td>A</td>\n      <td>A</td>\n      <td>116</td>\n    </tr>\n    <tr>\n      <th>1</th>\n      <td>VOL0002</td>\n      <td>187</td>\n      <td>487</td>\n      <td>B</td>\n      <td>D</td>\n      <td>219</td>\n    </tr>\n    <tr>\n      <th>2</th>\n      <td>VOL0003</td>\n      <td>251</td>\n      <td>551</td>\n      <td>A</td>\n      <td>D</td>\n      <td>292</td>\n    </tr>\n    <tr>\n      <th>3</th>\n      <td>VOL0004</td>\n      <td>266</td>\n      <td>566</td>\n      <td>C</td>\n      <td>D</td>\n      <td>421</td>\n    </tr>\n    <tr>\n      <th>4</th>\n      <td>VOL0005</td>\n      <td>347</td>\n      <td>647</td>\n      <td>D</td>\n      <td>D</td>\n      <td>511</td>\n    </tr>\n    <tr>\n      <th>5</th>\n      <td>VOL0006</td>\n      <td>461</td>\n      <td>761</td>\n      <td>F</td>\n      <td>A</td>\n      <td>659</td>\n    </tr>\n    <tr>\n      <th>6</th>\n      <td>VOL0007</td>\n      <td>532</td>\n      <td>832</td>\n      <td>F</td>\n      <td>A</td>\n      <td>757</td>\n    </tr>\n    <tr>\n      <th>7</th>\n      <td>VOL0008</td>\n      <td>570</td>\n      <td>870</td>\n      <td>C</td>\n      <td>A</td>\n      <td>839</td>\n    </tr>\n    <tr>\n      <th>8</th>\n      <td>VOL0009</td>\n      <td>644</td>\n      <td>944</td>\n      <td>A</td>\n      <td>A</td>\n      <td>914</td>\n    </tr>\n    <tr>\n      <th>9</th>\n      <td>VOL0010</td>\n      <td>654</td>\n      <td>954</td>\n      <td>C</td>\n      <td>D</td>\n      <td>1043</td>\n    </tr>\n  </tbody>\n</table>\n</div>"
     },
     "execution_count": 64,
     "metadata": {},
     "output_type": "execute_result"
    }
   ],
   "source": [
    "dvols"
   ],
   "metadata": {
    "collapsed": false,
    "pycharm": {
     "name": "#%%\n"
    }
   }
  },
  {
   "cell_type": "code",
   "execution_count": 65,
   "outputs": [
    {
     "data": {
      "text/plain": "[103, 73, 129, 90, 148, 98, 82, 75, 129]"
     },
     "execution_count": 65,
     "metadata": {},
     "output_type": "execute_result"
    }
   ],
   "source": [
    "separations = separations[1:]\n",
    "separations"
   ],
   "metadata": {
    "collapsed": false,
    "pycharm": {
     "name": "#%%\n"
    }
   }
  },
  {
   "cell_type": "code",
   "execution_count": 66,
   "outputs": [
    {
     "data": {
      "text/plain": "(0.0, 1143.0)"
     },
     "execution_count": 66,
     "metadata": {},
     "output_type": "execute_result"
    },
    {
     "data": {
      "text/plain": "<Figure size 1440x216 with 1 Axes>",
      "image/png": "[encoded data removed]"
     },
     "metadata": {
      "needs_background": "light"
     },
     "output_type": "display_data"
    }
   ],
   "source": [
    "fig, ax = plt.subplots(figsize=(20, 3))\n",
    "for i, sep in enumerate(separations):\n",
    "    time_de = assign_times[i]\n",
    "    time_to = assign_times[i] + sep\n",
    "    ax.plot([time_de, time_to], [0,]*2, c=\"orange\")\n",
    "ax.scatter(x=assign_times, y=[0,]*len(assign_times))\n",
    "ax.set_xlim([0, max(assign_times)+100])"
   ],
   "metadata": {
    "collapsed": false,
    "pycharm": {
     "name": "#%%\n"
    }
   }
  },
  {
   "cell_type": "code",
   "execution_count": null,
   "outputs": [],
   "source": [],
   "metadata": {
    "collapsed": false,
    "pycharm": {
     "name": "#%%\n"
    }
   }
  }
 ],
 "metadata": {
  "kernelspec": {
   "display_name": "Python 3",
   "language": "python",
   "name": "python3"
  },
  "language_info": {
   "codemirror_mode": {
    "name": "ipython",
    "version": 2
   },
   "file_extension": ".py",
   "mimetype": "text/x-python",
   "name": "python",
   "nbconvert_exporter": "python",
   "pygments_lexer": "ipython2",
   "version": "2.7.6"
  }
 },
 "nbformat": 4,
 "nbformat_minor": 0
}