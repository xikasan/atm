{
 "cells": [
  {
   "cell_type": "code",
   "execution_count": 1,
   "outputs": [],
   "source": [
    "import numpy as np\n",
    "import dimod\n",
    "import xtools as xt\n",
    "import matplotlib.pyplot as plt\n",
    "from openjij import SQASampler\n"
   ],
   "metadata": {
    "collapsed": false,
    "pycharm": {
     "name": "#%%\n"
    }
   }
  },
  {
   "cell_type": "code",
   "execution_count": 2,
   "outputs": [],
   "source": [
    "from atm.flight.generator import ScenarioGenerator\n",
    "from atm.separation import recat\n",
    "from atm.flight.flight import DUMMY_FLIGHT_RECAT\n"
   ],
   "metadata": {
    "collapsed": false,
    "pycharm": {
     "name": "#%%\n"
    }
   }
  },
  {
   "cell_type": "code",
   "execution_count": 84,
   "outputs": [],
   "source": [
    "cf = xt.Config(dict(\n",
    "    dt=10,\n",
    "    num=30,\n",
    "    scenario=dict(\n",
    "        interval=60,\n",
    "        window=200,\n",
    "        mode=\"mix\",\n",
    "        standard=\"recat\"\n",
    "    )\n",
    "))\n"
   ],
   "metadata": {
    "collapsed": false,
    "pycharm": {
     "name": "#%%\n"
    }
   }
  },
  {
   "cell_type": "code",
   "execution_count": 85,
   "outputs": [],
   "source": [
    "gen = ScenarioGenerator(cf.scenario)"
   ],
   "metadata": {
    "collapsed": false,
    "pycharm": {
     "name": "#%%\n"
    }
   }
  },
  {
   "cell_type": "code",
   "execution_count": 44,
   "outputs": [],
   "source": [
    "sep = recat.TBS"
   ],
   "metadata": {
    "collapsed": false,
    "pycharm": {
     "name": "#%%\n"
    }
   }
  },
  {
   "cell_type": "code",
   "execution_count": 45,
   "outputs": [],
   "source": [
    "def calc_assign_time_for_single_runway(vols, separation, indices):\n",
    "    past_vol = DUMMY_FLIGHT_RECAT\n",
    "    past_time = DUMMY_FLIGHT_RECAT.ready\n",
    "\n",
    "    assigned_times = []\n",
    "    for idx in indices:\n",
    "        vol = vols[idx]\n",
    "        sep_time = separation(past_vol, vol)\n",
    "        time = np.max([vol.ready, past_time + sep_time])\n",
    "        assigned_times.append(time)\n",
    "\n",
    "        past_vol = vol\n",
    "        past_time = time\n",
    "\n",
    "    return assigned_times\n"
   ],
   "metadata": {
    "collapsed": false,
    "pycharm": {
     "name": "#%%\n"
    }
   }
  },
  {
   "cell_type": "code",
   "execution_count": 109,
   "outputs": [],
   "source": [
    "def get_obj_multiple_runway(vols, separation, penalty):\n",
    "    def func(xs):\n",
    "        print(xs)\n",
    "        times = np.array([\n",
    "            calc_assign_time_for_single_runway(vols, separation, xs_)\n",
    "            for xs_ in xs\n",
    "        ])\n",
    "        readys = np.array([\n",
    "            [vols[x].ready for x in xs_]\n",
    "            for xs_ in xs\n",
    "        ])\n",
    "        dues = np.array([\n",
    "            [vols[x].due for x in xs_]\n",
    "            for xs_ in xs\n",
    "        ])\n",
    "\n",
    "        print(\"times:\", type(times), times)\n",
    "        print(\"ready:\", type(readys), readys)\n",
    "        delays = times - readys\n",
    "        delay = np.mean(delays)\n",
    "\n",
    "        overtimes = dues - times\n",
    "        is_overtimes = (overtimes < 0).astype(float)\n",
    "        overtime_penalty = np.sum(is_overtimes) * penalty\n",
    "\n",
    "        return delay + overtime_penalty\n",
    "    return func"
   ],
   "metadata": {
    "collapsed": false,
    "pycharm": {
     "name": "#%%\n"
    }
   }
  },
  {
   "cell_type": "code",
   "execution_count": 105,
   "outputs": [
    {
     "data": {
      "text/plain": "[array([0, 2, 4, 6, 8]), array([1, 3, 5, 7, 9])]"
     },
     "execution_count": 105,
     "metadata": {},
     "output_type": "execute_result"
    }
   ],
   "source": [
    "vols = gen(10)\n",
    "idxs = [\n",
    "    np.arange(len(vols) // 2) * 2,\n",
    "    np.arange(len(vols) // 2) * 2 + 1\n",
    "]\n",
    "idxs"
   ],
   "metadata": {
    "collapsed": false,
    "pycharm": {
     "name": "#%%\n"
    }
   }
  },
  {
   "cell_type": "code",
   "execution_count": 110,
   "outputs": [
    {
     "name": "stdout",
     "output_type": "stream",
     "text": [
      "[array([0, 2, 4, 6, 8]), array([1, 3, 5, 7, 9])]\n",
      "times: <class 'numpy.ndarray'> [[143 302 458 561 689]\n",
      " [214 310 516 614 696]]\n",
      "ready: <class 'numpy.ndarray'> [[143 302 458 488 582]\n",
      " [214 310 463 528 662]]\n"
     ]
    },
    {
     "data": {
      "text/plain": "35.3"
     },
     "execution_count": 110,
     "metadata": {},
     "output_type": "execute_result"
    }
   ],
   "source": [
    "obj = get_obj_multiple_runway(vols, sep, 1000)\n",
    "obj(idxs)\n"
   ],
   "metadata": {
    "collapsed": false,
    "pycharm": {
     "name": "#%%\n"
    }
   }
  },
  {
   "cell_type": "code",
   "execution_count": 111,
   "outputs": [
    {
     "name": "stdout",
     "output_type": "stream",
     "text": [
      "[[0 1 2 3 4 5 6 7 8 9]\n",
      " [0 0 1 0 0 0 0 0 0 0]]\n",
      "[array([0, 1, 3, 4, 5, 6, 7, 8, 9]) array([2])]\n",
      "[array([0, 1, 3, 4, 5, 6, 7, 8, 9]) array([2])]\n",
      "times: <class 'numpy.ndarray'> [list([143, 217, 310, 458, 664, 746, 951, 1033, 1115]) list([302])]\n",
      "ready: <class 'numpy.ndarray'> [list([143, 214, 310, 458, 463, 488, 528, 582, 662]) list([302])]\n"
     ]
    },
    {
     "name": "stderr",
     "output_type": "stream",
     "text": [
      "/var/folders/t7/nsdlqwpn6ggfjtwngwqx37x40000gn/T/ipykernel_41648/1936053741.py:37: VisibleDeprecationWarning: Creating an ndarray from ragged nested sequences (which is a list-or-tuple of lists-or-tuples-or ndarrays with different lengths or shapes) is deprecated. If you meant to do this, you must specify 'dtype=object' when creating the ndarray.\n",
      "  qxs = np.asarray([\n",
      "/var/folders/t7/nsdlqwpn6ggfjtwngwqx37x40000gn/T/ipykernel_41648/1341281347.py:4: VisibleDeprecationWarning: Creating an ndarray from ragged nested sequences (which is a list-or-tuple of lists-or-tuples-or ndarrays with different lengths or shapes) is deprecated. If you meant to do this, you must specify 'dtype=object' when creating the ndarray.\n",
      "  times = np.array([\n",
      "/var/folders/t7/nsdlqwpn6ggfjtwngwqx37x40000gn/T/ipykernel_41648/1341281347.py:8: VisibleDeprecationWarning: Creating an ndarray from ragged nested sequences (which is a list-or-tuple of lists-or-tuples-or ndarrays with different lengths or shapes) is deprecated. If you meant to do this, you must specify 'dtype=object' when creating the ndarray.\n",
      "  readys = np.array([\n",
      "/var/folders/t7/nsdlqwpn6ggfjtwngwqx37x40000gn/T/ipykernel_41648/1341281347.py:12: VisibleDeprecationWarning: Creating an ndarray from ragged nested sequences (which is a list-or-tuple of lists-or-tuples-or ndarrays with different lengths or shapes) is deprecated. If you meant to do this, you must specify 'dtype=object' when creating the ndarray.\n",
      "  dues = np.array([\n"
     ]
    },
    {
     "ename": "TypeError",
     "evalue": "unsupported operand type(s) for -: 'list' and 'list'",
     "output_type": "error",
     "traceback": [
      "\u001B[0;31m---------------------------------------------------------------------------\u001B[0m",
      "\u001B[0;31mTypeError\u001B[0m                                 Traceback (most recent call last)",
      "Input \u001B[0;32mIn [111]\u001B[0m, in \u001B[0;36m<cell line: 67>\u001B[0;34m()\u001B[0m\n\u001B[1;32m     62\u001B[0m xsample \u001B[38;5;241m=\u001B[39m np\u001B[38;5;241m.\u001B[39mvstack([\n\u001B[1;32m     63\u001B[0m     np\u001B[38;5;241m.\u001B[39marange(\u001B[38;5;28mlen\u001B[39m(vols)),\n\u001B[1;32m     64\u001B[0m     np\u001B[38;5;241m.\u001B[39mrandom\u001B[38;5;241m.\u001B[39mchoice(np\u001B[38;5;241m.\u001B[39marange(\u001B[38;5;241m2\u001B[39m), \u001B[38;5;28mlen\u001B[39m(vols), replace\u001B[38;5;241m=\u001B[39m\u001B[38;5;28;01mTrue\u001B[39;00m)\n\u001B[1;32m     65\u001B[0m ])\u001B[38;5;241m.\u001B[39mastype(\u001B[38;5;28mint\u001B[39m)\n\u001B[1;32m     66\u001B[0m \u001B[38;5;28mprint\u001B[39m(xsample)\n\u001B[0;32m---> 67\u001B[0m \u001B[43malgo\u001B[49m\u001B[38;5;241;43m.\u001B[39;49m\u001B[43mf\u001B[49m\u001B[43m(\u001B[49m\u001B[43mxsample\u001B[49m\u001B[43m)\u001B[49m\n",
      "Input \u001B[0;32mIn [111]\u001B[0m, in \u001B[0;36mMultiSequenceMetropolis.f\u001B[0;34m(self, x)\u001B[0m\n\u001B[1;32m     37\u001B[0m qxs \u001B[38;5;241m=\u001B[39m np\u001B[38;5;241m.\u001B[39masarray([\n\u001B[1;32m     38\u001B[0m     x[\u001B[38;5;241m0\u001B[39m, x[\u001B[38;5;241m1\u001B[39m,] \u001B[38;5;241m==\u001B[39m q]\n\u001B[1;32m     39\u001B[0m     \u001B[38;5;28;01mfor\u001B[39;00m q \u001B[38;5;129;01min\u001B[39;00m \u001B[38;5;28mrange\u001B[39m(\u001B[38;5;28mself\u001B[39m\u001B[38;5;241m.\u001B[39mnq)\n\u001B[1;32m     40\u001B[0m ])\n\u001B[1;32m     41\u001B[0m \u001B[38;5;28mprint\u001B[39m(qxs)\n\u001B[0;32m---> 42\u001B[0m es \u001B[38;5;241m=\u001B[39m \u001B[38;5;28;43mself\u001B[39;49m\u001B[38;5;241;43m.\u001B[39;49m\u001B[43mobj\u001B[49m\u001B[43m(\u001B[49m\u001B[43mqxs\u001B[49m\u001B[43m)\u001B[49m\n\u001B[1;32m     43\u001B[0m \u001B[38;5;66;03m# es = [self.obj(qx) for qx in qxs]\u001B[39;00m\n\u001B[1;32m     44\u001B[0m \u001B[38;5;28mprint\u001B[39m(qxs)\n",
      "Input \u001B[0;32mIn [109]\u001B[0m, in \u001B[0;36mget_obj_multiple_runway.<locals>.func\u001B[0;34m(xs)\u001B[0m\n\u001B[1;32m     17\u001B[0m \u001B[38;5;28mprint\u001B[39m(\u001B[38;5;124m\"\u001B[39m\u001B[38;5;124mtimes:\u001B[39m\u001B[38;5;124m\"\u001B[39m, \u001B[38;5;28mtype\u001B[39m(times), times)\n\u001B[1;32m     18\u001B[0m \u001B[38;5;28mprint\u001B[39m(\u001B[38;5;124m\"\u001B[39m\u001B[38;5;124mready:\u001B[39m\u001B[38;5;124m\"\u001B[39m, \u001B[38;5;28mtype\u001B[39m(readys), readys)\n\u001B[0;32m---> 19\u001B[0m delays \u001B[38;5;241m=\u001B[39m \u001B[43mtimes\u001B[49m\u001B[43m \u001B[49m\u001B[38;5;241;43m-\u001B[39;49m\u001B[43m \u001B[49m\u001B[43mreadys\u001B[49m\n\u001B[1;32m     20\u001B[0m delay \u001B[38;5;241m=\u001B[39m np\u001B[38;5;241m.\u001B[39mmean(delays)\n\u001B[1;32m     22\u001B[0m overtimes \u001B[38;5;241m=\u001B[39m dues \u001B[38;5;241m-\u001B[39m times\n",
      "\u001B[0;31mTypeError\u001B[0m: unsupported operand type(s) for -: 'list' and 'list'"
     ]
    }
   ],
   "source": [
    "class MultiSequenceMetropolis:\n",
    "\n",
    "    def __init__(self, objective, num_item, num_queue, T=1., swap_remote=False, seed=None, on_notebook=False):\n",
    "        self.obj = objective\n",
    "        self.nx = num_item\n",
    "        self.nq = num_queue\n",
    "        self.T = T\n",
    "        self._swap_remote = swap_remote\n",
    "        self.rs = None\n",
    "        self.seed(seed)\n",
    "        self.on_notebook = on_notebook\n",
    "\n",
    "        self.prob_swap_queue = 0.2\n",
    "\n",
    "        self.ec = None\n",
    "        self.best_x = None\n",
    "\n",
    "    def seed(self, seed=None):\n",
    "        self.rs = np.random.RandomState(seed)\n",
    "        return seed\n",
    "\n",
    "    def sample(self, x):\n",
    "        x_ = x.copy()\n",
    "        if self.prob_swap_queue <= self.rs.rand():\n",
    "            print(\"change queue\")\n",
    "        print(x_)\n",
    "\n",
    "    def step(self, xc):\n",
    "        pass\n",
    "\n",
    "    def accept_prob(self, ec, ep):\n",
    "        de = ep - ec\n",
    "        r = np.exp(-de / self.T)\n",
    "        return np.min([1, r])\n",
    "\n",
    "    def f(self, x):\n",
    "        qxs = np.asarray([\n",
    "            x[0, x[1,] == q]\n",
    "            for q in range(self.nq)\n",
    "        ])\n",
    "        print(qxs)\n",
    "        es = self.obj(qxs)\n",
    "        # es = [self.obj(qx) for qx in qxs]\n",
    "        print(qxs)\n",
    "        print(es)\n",
    "\n",
    "    def optimize(self, x0=None, num_iter=10):\n",
    "        xc = x0 if x0 is not None else self.generate_base_x()\n",
    "        self.ec = self.f(xc)\n",
    "        pass\n",
    "\n",
    "    @staticmethod\n",
    "    def generate_base_x():\n",
    "        return np.vstack([\n",
    "            np.arange(len(vols)),\n",
    "            np.zeros(len(vols))\n",
    "        ]).astype(int)\n",
    "\n",
    "\n",
    "\n",
    "algo = MultiSequenceMetropolis(get_obj_multiple_runway(vols, sep, 100), len(vols), 2)\n",
    "xsample = np.vstack([\n",
    "    np.arange(len(vols)),\n",
    "    np.random.choice(np.arange(2), len(vols), replace=True)\n",
    "]).astype(int)\n",
    "print(xsample)\n",
    "algo.f(xsample)\n",
    "# algo.sample()"
   ],
   "metadata": {
    "collapsed": false,
    "pycharm": {
     "name": "#%%\n"
    }
   }
  },
  {
   "cell_type": "code",
   "execution_count": null,
   "outputs": [],
   "source": [],
   "metadata": {
    "collapsed": false,
    "pycharm": {
     "name": "#%%\n"
    }
   }
  }
 ],
 "metadata": {
  "kernelspec": {
   "display_name": "Python 3",
   "language": "python",
   "name": "python3"
  },
  "language_info": {
   "codemirror_mode": {
    "name": "ipython",
    "version": 2
   },
   "file_extension": ".py",
   "mimetype": "text/x-python",
   "name": "python",
   "nbconvert_exporter": "python",
   "pygments_lexer": "ipython2",
   "version": "2.7.6"
  }
 },
 "nbformat": 4,
 "nbformat_minor": 0
}