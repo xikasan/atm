{
 "cells": [
  {
   "cell_type": "code",
   "execution_count": 1,
   "outputs": [],
   "source": [
    "import numpy as np\n",
    "import dimod\n",
    "import xtools as xt\n",
    "import matplotlib.pyplot as plt\n",
    "from openjij import SQASampler"
   ],
   "metadata": {
    "collapsed": false,
    "pycharm": {
     "name": "#%%\n"
    }
   }
  },
  {
   "cell_type": "code",
   "execution_count": 2,
   "outputs": [],
   "source": [
    "from atm.flight.generator import ScenarioGenerator\n",
    "from atm.separation import recat\n",
    "from atm.flight.flight import DUMMY_FLIGHT_RECAT"
   ],
   "metadata": {
    "collapsed": false,
    "pycharm": {
     "name": "#%%\n"
    }
   }
  },
  {
   "cell_type": "code",
   "execution_count": 3,
   "outputs": [],
   "source": [
    "cf = xt.Config(dict(\n",
    "    dt=10,\n",
    "    num=30,\n",
    "    scenario=dict(\n",
    "        interval=60,\n",
    "        window=300,\n",
    "        mode=\"mix\",\n",
    "        standard=\"recat\"\n",
    "    )\n",
    "))"
   ],
   "metadata": {
    "collapsed": false,
    "pycharm": {
     "name": "#%%\n"
    }
   }
  },
  {
   "cell_type": "code",
   "execution_count": 4,
   "outputs": [],
   "source": [
    "gen = ScenarioGenerator(cf.scenario)\n"
   ],
   "metadata": {
    "collapsed": false,
    "pycharm": {
     "name": "#%%\n"
    }
   }
  },
  {
   "cell_type": "code",
   "execution_count": 5,
   "outputs": [],
   "source": [
    "sep = recat.TBS"
   ],
   "metadata": {
    "collapsed": false,
    "pycharm": {
     "name": "#%%\n"
    }
   }
  },
  {
   "cell_type": "code",
   "execution_count": 81,
   "outputs": [],
   "source": [
    "xs = np.arange(cf.num)\n",
    "\n",
    "def calc_time_by_order(vols, separation, indices):\n",
    "    past_vol = DUMMY_FLIGHT_RECAT\n",
    "    past_time = DUMMY_FLIGHT_RECAT.ready\n",
    "\n",
    "    assigned_times = []\n",
    "    for idx in indices:\n",
    "        vol = vols[idx]\n",
    "        sep_time = separation(past_vol, vol)\n",
    "        time = np.max([vol.ready, past_time + sep_time])\n",
    "        assigned_times.append(time)\n",
    "\n",
    "        past_vol = vol\n",
    "        past_time = time\n",
    "\n",
    "    return assigned_times\n",
    "\n",
    "def gen_obj(vols, separation, penalty):\n",
    "    def func(xs):\n",
    "        times = calc_time_by_order(vols, separation, xs)\n",
    "\n",
    "        delays = []\n",
    "        num_violation = 0\n",
    "        for idx in xs:\n",
    "            vol = vols[idx]\n",
    "            time = times[idx]\n",
    "            delays.append(time - vol.ready)\n",
    "            if time > vol.due:\n",
    "                num_violation += 1\n",
    "        return sum(delays) / len(vols) + num_violation * penalty\n",
    "\n",
    "    return func"
   ],
   "metadata": {
    "collapsed": false,
    "pycharm": {
     "name": "#%%\n"
    }
   }
  },
  {
   "cell_type": "code",
   "execution_count": 82,
   "outputs": [],
   "source": [
    "vols = gen(cf.num)"
   ],
   "metadata": {
    "collapsed": false,
    "pycharm": {
     "name": "#%%\n"
    }
   }
  },
  {
   "cell_type": "code",
   "execution_count": 83,
   "outputs": [
    {
     "data": {
      "text/plain": "6267.98"
     },
     "execution_count": 83,
     "metadata": {},
     "output_type": "execute_result"
    }
   ],
   "source": [
    "f = gen_obj(vols, sep, 100)\n",
    "f(np.arange(len(vols)))\n"
   ],
   "metadata": {
    "collapsed": false,
    "pycharm": {
     "name": "#%%\n"
    }
   }
  },
  {
   "cell_type": "code",
   "execution_count": 84,
   "outputs": [],
   "source": [
    "class SequentialMetropolis:\n",
    "\n",
    "    def __init__(self, objective, nx, T=1., swap_remote=False, seed=None, on_notebook=False):\n",
    "        self.f = objective\n",
    "        self.nx = nx\n",
    "        self.T = T\n",
    "        self._swap_remote = swap_remote\n",
    "        self.rs = None\n",
    "        self.seed(seed)\n",
    "        self.on_notebook = on_notebook\n",
    "\n",
    "        self.ec = None\n",
    "        self.best_x = None\n",
    "\n",
    "    def seed(self, seed=None):\n",
    "        self.rs = np.random.RandomState(seed)\n",
    "        return seed\n",
    "\n",
    "    def swap(self, x):\n",
    "        x_ = x.copy()\n",
    "        if self._swap_remote:\n",
    "            ixs = self.rs.choice(np.arange(len(x)), 2, replace=False)\n",
    "            x_[ixs] = x[ixs[::-1]]\n",
    "            return x_\n",
    "\n",
    "        iter = self.rs.randint(len(x)-1)\n",
    "        x_[iter:iter+2] = x[iter:iter+2][::-1]\n",
    "        return x_\n",
    "\n",
    "    def step(self, xc):\n",
    "        xp = self.swap(xc)\n",
    "        ep = self.f(xp)\n",
    "\n",
    "        r = self.accept_prob(self.ec, ep)\n",
    "\n",
    "        if ep < self.ec:\n",
    "            self.best_x = xp.copy()\n",
    "\n",
    "        if r > self.rs.rand():\n",
    "            self.ec = ep\n",
    "            return xp\n",
    "\n",
    "        return xc\n",
    "\n",
    "    def accept_prob(self, ec, ep):\n",
    "        de = ep - ec\n",
    "        # print(de, ep, ec)\n",
    "        r = np.exp(-de / self.T)\n",
    "        return np.min([1, r])\n",
    "\n",
    "    def optimize(self, x0=None, e0=None, num_iter=10):\n",
    "        xc = x0 if x0 is not None else np.arange(self.nx)\n",
    "        self.ec = e0 if e0 is not None else self.f(xc)\n",
    "        self.best_x = xc.copy()\n",
    "\n",
    "        log = dict(step=[0], energy=[self.ec])\n",
    "\n",
    "        for i in range(num_iter):\n",
    "            xc = self.step(xc)\n",
    "            log[\"step\"].append(i+1)\n",
    "            log[\"energy\"].append(self.ec)\n",
    "\n",
    "        return log"
   ],
   "metadata": {
    "collapsed": false,
    "pycharm": {
     "name": "#%%\n"
    }
   }
  },
  {
   "cell_type": "code",
   "execution_count": 166,
   "outputs": [],
   "source": [
    "def retrieve_sampler(nq, separation, vols):\n",
    "    def sample_by_qa(xs):\n",
    "        # retrieve target range xs\n",
    "        idx_retrieve = np.random.randint(0, len(xs)-nq)\n",
    "        qxs = xs[idx_retrieve:idx_retrieve+nq]\n",
    "\n",
    "        # build CQM\n",
    "        cqm = dimod.ConstrainedQuadraticModel()\n",
    "\n",
    "        # define variables\n",
    "        qs = [\n",
    "            [dimod.Binary(f\"x_{i}_{j}\") for j in range(nq)]\n",
    "            for i in range(nq)\n",
    "        ]\n",
    "\n",
    "        # build objective\n",
    "        cqm.set_objective(sum([\n",
    "            sum([\n",
    "                separation(vols[i], vols[i+1]) * qs[i][j] * qs[i][j+1]\n",
    "                for j in range(nq-1) if i == j\n",
    "            ]) for i in range(nq)\n",
    "        ]))\n",
    "        # constraints: unique select\n",
    "        [cqm.add_constraint(sum([qs[i][j] for j in range(nq)]) == 1, label=f\"h-select-{i}\") for i in range(nq)]\n",
    "        [cqm.add_constraint(sum([qs[i][j] for i in range(nq)]) == 1, label=f\"v-select-{j}\") for j in range(nq)]\n",
    "\n",
    "        # convert to bqm\n",
    "\n",
    "        bqm, invert = dimod.cqm_to_bqm(cqm, lagrange_multiplier=1)\n",
    "        # sample\n",
    "        sampler = SQASampler()\n",
    "        sampleset = sampler.sample(bqm)\n",
    "        sample = list(sampleset.first.sample.values())\n",
    "\n",
    "        # invert sample\n",
    "        sample = np.reshape(sample, (nq, nq))\n",
    "        sample_order = np.argmax(sample, axis=1)\n",
    "\n",
    "        # build proposed sample\n",
    "        xs_ = xs.copy()\n",
    "        xs_[idx_retrieve:idx_retrieve+nq] = qxs[sample_order]\n",
    "        return xs_\n",
    "\n",
    "    return sample_by_qa"
   ],
   "metadata": {
    "collapsed": false,
    "pycharm": {
     "name": "#%%\n"
    }
   }
  },
  {
   "cell_type": "code",
   "execution_count": 147,
   "outputs": [],
   "source": [
    "cf = xt.Config(dict(\n",
    "    dt=10,\n",
    "    num=50,\n",
    "    scenario=dict(\n",
    "        interval=60,\n",
    "        window=360,\n",
    "        mode=\"mix\",\n",
    "        standard=\"recat\"\n",
    "    )\n",
    "))\n",
    "gen = ScenarioGenerator(cf.scenario)"
   ],
   "metadata": {
    "collapsed": false,
    "pycharm": {
     "name": "#%%\n"
    }
   }
  },
  {
   "cell_type": "code",
   "execution_count": 150,
   "outputs": [],
   "source": [
    "Nq = 3\n",
    "vio_penalty = 1000\n",
    "vols = gen(cf.num)\n",
    "vols = gen(5)"
   ],
   "metadata": {
    "collapsed": false,
    "pycharm": {
     "name": "#%%\n"
    }
   }
  },
  {
   "cell_type": "code",
   "execution_count": 151,
   "outputs": [],
   "source": [
    "f = gen_obj(vols, sep, vio_penalty)"
   ],
   "metadata": {
    "collapsed": false,
    "pycharm": {
     "name": "#%%\n"
    }
   }
  },
  {
   "cell_type": "code",
   "execution_count": 163,
   "outputs": [],
   "source": [
    "algo = SequentialMetropolis(f, len(vols), T=1)\n",
    "algo.swap = retrieve_sampler(Nq, sep, vols)"
   ],
   "metadata": {
    "collapsed": false,
    "pycharm": {
     "name": "#%%\n"
    }
   }
  },
  {
   "cell_type": "code",
   "execution_count": 164,
   "outputs": [
    {
     "name": "stdout",
     "output_type": "stream",
     "text": [
      "[0 2 1 3 4]\n"
     ]
    }
   ],
   "source": [
    "log = algo.optimize(num_iter=300)\n",
    "print(algo.best_x)"
   ],
   "metadata": {
    "collapsed": false,
    "pycharm": {
     "name": "#%%\n"
    }
   }
  },
  {
   "cell_type": "code",
   "execution_count": 165,
   "outputs": [
    {
     "data": {
      "text/plain": "<Figure size 432x288 with 1 Axes>",
      "image/png": "[encoded data removed]"
     },
     "metadata": {
      "needs_background": "light"
     },
     "output_type": "display_data"
    }
   ],
   "source": [
    "plt.plot(log[\"step\"], log[\"energy\"])\n",
    "plt.show()"
   ],
   "metadata": {
    "collapsed": false,
    "pycharm": {
     "name": "#%%\n"
    }
   }
  },
  {
   "cell_type": "code",
   "execution_count": 119,
   "outputs": [
    {
     "name": "stdout",
     "output_type": "stream",
     "text": [
      "[0 2 1 3 4]\n",
      "[122, 204, 279, 410, 508]\n",
      "[122 279 204 410 508]\n"
     ]
    },
    {
     "data": {
      "text/plain": "      code  ready  due category operation  time\n0  VOL0001    122  482        F         A   122\n1  VOL0002    128  488        E         D   279\n2  VOL0003    204  564        D         A   204\n3  VOL0004    354  714        F         D   410\n4  VOL0005    470  830        F         A   508",
      "text/html": "<div>\n<style scoped>\n    .dataframe tbody tr th:only-of-type {\n        vertical-align: middle;\n    }\n\n    .dataframe tbody tr th {\n        vertical-align: top;\n    }\n\n    .dataframe thead th {\n        text-align: right;\n    }\n</style>\n<table border=\"1\" class=\"dataframe\">\n  <thead>\n    <tr style=\"text-align: right;\">\n      <th></th>\n      <th>code</th>\n      <th>ready</th>\n      <th>due</th>\n      <th>category</th>\n      <th>operation</th>\n      <th>time</th>\n    </tr>\n  </thead>\n  <tbody>\n    <tr>\n      <th>0</th>\n      <td>VOL0001</td>\n      <td>122</td>\n      <td>482</td>\n      <td>F</td>\n      <td>A</td>\n      <td>122</td>\n    </tr>\n    <tr>\n      <th>1</th>\n      <td>VOL0002</td>\n      <td>128</td>\n      <td>488</td>\n      <td>E</td>\n      <td>D</td>\n      <td>279</td>\n    </tr>\n    <tr>\n      <th>2</th>\n      <td>VOL0003</td>\n      <td>204</td>\n      <td>564</td>\n      <td>D</td>\n      <td>A</td>\n      <td>204</td>\n    </tr>\n    <tr>\n      <th>3</th>\n      <td>VOL0004</td>\n      <td>354</td>\n      <td>714</td>\n      <td>F</td>\n      <td>D</td>\n      <td>410</td>\n    </tr>\n    <tr>\n      <th>4</th>\n      <td>VOL0005</td>\n      <td>470</td>\n      <td>830</td>\n      <td>F</td>\n      <td>A</td>\n      <td>508</td>\n    </tr>\n  </tbody>\n</table>\n</div>"
     },
     "execution_count": 119,
     "metadata": {},
     "output_type": "execute_result"
    }
   ],
   "source": [
    "assigned_times = calc_time_by_order(vols, sep, algo.best_x)\n",
    "retrieved_assigned_time = np.zeros_like(assigned_times)\n",
    "for orig_idx, t in zip(algo.best_x, assigned_times):\n",
    "    retrieved_assigned_time[orig_idx] = t\n",
    "print(algo.best_x)\n",
    "print(assigned_times)\n",
    "print(retrieved_assigned_time)\n",
    "df_vols = vols.to_dataframe()\n",
    "df_vols[\"time\"] = retrieved_assigned_time\n",
    "df_vols"
   ],
   "metadata": {
    "collapsed": false,
    "pycharm": {
     "name": "#%%\n"
    }
   }
  },
  {
   "cell_type": "code",
   "execution_count": null,
   "outputs": [],
   "source": [],
   "metadata": {
    "collapsed": false,
    "pycharm": {
     "name": "#%%\n"
    }
   }
  }
 ],
 "metadata": {
  "kernelspec": {
   "display_name": "Python 3",
   "language": "python",
   "name": "python3"
  },
  "language_info": {
   "codemirror_mode": {
    "name": "ipython",
    "version": 2
   },
   "file_extension": ".py",
   "mimetype": "text/x-python",
   "name": "python",
   "nbconvert_exporter": "python",
   "pygments_lexer": "ipython2",
   "version": "2.7.6"
  }
 },
 "nbformat": 4,
 "nbformat_minor": 0
}