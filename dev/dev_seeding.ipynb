{
 "cells": [
  {
   "cell_type": "code",
   "execution_count": 1,
   "outputs": [],
   "source": [
    "import numpy as np\n",
    "import xtools as xt\n",
    "from typing import List, Union\n",
    "\n",
    "from atm.flight.flight import Flight\n",
    "from atm.flight.scenario import Scenario, ScenarioIterator\n",
    "from atm.flight.category import Category\n",
    "from atm.flight.operation import Operation, OperationMode\n",
    "from atm.utility.random import poisson_interval\n",
    "\n",
    "\n",
    "FL = List[Flight]\n"
   ],
   "metadata": {
    "collapsed": false,
    "pycharm": {
     "name": "#%%\n"
    }
   }
  },
  {
   "cell_type": "code",
   "execution_count": 2,
   "outputs": [],
   "source": [
    "class ScenarioGenerator:\n",
    "\n",
    "    def __init__(self, parameter: Union[xt.Config, dict]):\n",
    "        if isinstance(parameter, dict):\n",
    "            parameter = xt.Config(parameter)\n",
    "        self._parameter = parameter\n",
    "        self._interval: float = 1 / parameter.interval\n",
    "        self._window: int = parameter.window\n",
    "        self._mode: OperationMode = OperationMode.get(\n",
    "            \"mix\" if not hasattr(parameter, \"mode\") else parameter.mode\n",
    "        )\n",
    "        self._category: Category = Category.standard(\n",
    "            \"recat\" if not hasattr(parameter, \"standard\") else parameter.standard\n",
    "        )\n",
    "        if not hasattr(parameter, \"seed\"):\n",
    "            seed = np.random.rand()\n",
    "            parameter.set(\"seed\", seed)\n",
    "        self._rs = np.random.RandomState(parameter.seed)\n",
    "\n",
    "    def __call__(self, num_generate: int) -> Scenario:\n",
    "        # time window\n",
    "        intervals = poisson_interval(self._interval, size=num_generate, rs=self._rs).astype(int)\n",
    "        times_de = np.cumsum(intervals)\n",
    "        times_to = np.ones_like(times_de) * self._window + times_de\n",
    "\n",
    "        # mode\n",
    "        if self._mode == OperationMode.M:\n",
    "            operations = self._rs.choice(\n",
    "                [o for o in Operation],\n",
    "                num_generate, replace=True\n",
    "            )\n",
    "        else:\n",
    "            operations = np.array([self._mode,] * num_generate)\n",
    "\n",
    "        # category\n",
    "        categories = self._rs.choice(\n",
    "            [c for c in self._category],\n",
    "            num_generate, replace=True\n",
    "        )\n",
    "\n",
    "        # summarize\n",
    "        code_root = \"VOL{:04.0f}\"\n",
    "        vols = [\n",
    "            Flight(code_root.format(id_+1), tde, tto, ope, cat)\n",
    "            for id_, (tde, tto, ope, cat) in enumerate(\n",
    "                zip(times_de, times_to, operations, categories)\n",
    "            )\n",
    "        ]\n",
    "        return Scenario(vols)"
   ],
   "metadata": {
    "collapsed": false,
    "pycharm": {
     "name": "#%%\n"
    }
   }
  },
  {
   "cell_type": "code",
   "execution_count": 3,
   "outputs": [],
   "source": [
    "cf = xt.Config(dict(\n",
    "    dt=10,\n",
    "    num=30,\n",
    "    scenario=dict(\n",
    "        interval=60,\n",
    "        window=300,\n",
    "        mode=\"mix\",\n",
    "        standard=\"recat\",\n",
    "        seed=0,\n",
    "    )\n",
    "))\n"
   ],
   "metadata": {
    "collapsed": false,
    "pycharm": {
     "name": "#%%\n"
    }
   }
  },
  {
   "cell_type": "code",
   "execution_count": 10,
   "outputs": [
    {
     "data": {
      "text/plain": "       code  ready   due category operation\n0   VOL0001     35   335        D         D\n1   VOL0002     55   355        C         A\n2   VOL0003     85   385        D         D\n3   VOL0004    121   421        A         A\n4   VOL0005    172   472        D         D\n5   VOL0006    198   498        F         A\n6   VOL0007    247   547        E         A\n7   VOL0008    253   553        B         A\n8   VOL0009    255   555        C         A\n9   VOL0010    312   612        E         A\n10  VOL0011    326   626        D         D\n11  VOL0012    364   664        E         D\n12  VOL0013    397   697        E         A\n13  VOL0014    401   701        E         A\n14  VOL0015    559   859        D         A\n15  VOL0016    705  1005        E         D\n16  VOL0017    939  1239        E         D\n17  VOL0018    949  1249        E         A\n18  VOL0019    964  1264        A         D\n19  VOL0020    972  1272        E         A\n20  VOL0021    973  1273        D         A\n21  VOL0022    986  1286        C         D\n22  VOL0023   1032  1332        F         A\n23  VOL0024   1046  1346        F         D\n24  VOL0025   1174  1474        F         D\n25  VOL0026   1200  1500        A         D\n26  VOL0027   1316  1616        B         D\n27  VOL0028   1319  1619        F         D\n28  VOL0029   1358  1658        B         D\n29  VOL0030   1410  1710        D         A",
      "text/html": "<div>\n<style scoped>\n    .dataframe tbody tr th:only-of-type {\n        vertical-align: middle;\n    }\n\n    .dataframe tbody tr th {\n        vertical-align: top;\n    }\n\n    .dataframe thead th {\n        text-align: right;\n    }\n</style>\n<table border=\"1\" class=\"dataframe\">\n  <thead>\n    <tr style=\"text-align: right;\">\n      <th></th>\n      <th>code</th>\n      <th>ready</th>\n      <th>due</th>\n      <th>category</th>\n      <th>operation</th>\n    </tr>\n  </thead>\n  <tbody>\n    <tr>\n      <th>0</th>\n      <td>VOL0001</td>\n      <td>35</td>\n      <td>335</td>\n      <td>D</td>\n      <td>D</td>\n    </tr>\n    <tr>\n      <th>1</th>\n      <td>VOL0002</td>\n      <td>55</td>\n      <td>355</td>\n      <td>C</td>\n      <td>A</td>\n    </tr>\n    <tr>\n      <th>2</th>\n      <td>VOL0003</td>\n      <td>85</td>\n      <td>385</td>\n      <td>D</td>\n      <td>D</td>\n    </tr>\n    <tr>\n      <th>3</th>\n      <td>VOL0004</td>\n      <td>121</td>\n      <td>421</td>\n      <td>A</td>\n      <td>A</td>\n    </tr>\n    <tr>\n      <th>4</th>\n      <td>VOL0005</td>\n      <td>172</td>\n      <td>472</td>\n      <td>D</td>\n      <td>D</td>\n    </tr>\n    <tr>\n      <th>5</th>\n      <td>VOL0006</td>\n      <td>198</td>\n      <td>498</td>\n      <td>F</td>\n      <td>A</td>\n    </tr>\n    <tr>\n      <th>6</th>\n      <td>VOL0007</td>\n      <td>247</td>\n      <td>547</td>\n      <td>E</td>\n      <td>A</td>\n    </tr>\n    <tr>\n      <th>7</th>\n      <td>VOL0008</td>\n      <td>253</td>\n      <td>553</td>\n      <td>B</td>\n      <td>A</td>\n    </tr>\n    <tr>\n      <th>8</th>\n      <td>VOL0009</td>\n      <td>255</td>\n      <td>555</td>\n      <td>C</td>\n      <td>A</td>\n    </tr>\n    <tr>\n      <th>9</th>\n      <td>VOL0010</td>\n      <td>312</td>\n      <td>612</td>\n      <td>E</td>\n      <td>A</td>\n    </tr>\n    <tr>\n      <th>10</th>\n      <td>VOL0011</td>\n      <td>326</td>\n      <td>626</td>\n      <td>D</td>\n      <td>D</td>\n    </tr>\n    <tr>\n      <th>11</th>\n      <td>VOL0012</td>\n      <td>364</td>\n      <td>664</td>\n      <td>E</td>\n      <td>D</td>\n    </tr>\n    <tr>\n      <th>12</th>\n      <td>VOL0013</td>\n      <td>397</td>\n      <td>697</td>\n      <td>E</td>\n      <td>A</td>\n    </tr>\n    <tr>\n      <th>13</th>\n      <td>VOL0014</td>\n      <td>401</td>\n      <td>701</td>\n      <td>E</td>\n      <td>A</td>\n    </tr>\n    <tr>\n      <th>14</th>\n      <td>VOL0015</td>\n      <td>559</td>\n      <td>859</td>\n      <td>D</td>\n      <td>A</td>\n    </tr>\n    <tr>\n      <th>15</th>\n      <td>VOL0016</td>\n      <td>705</td>\n      <td>1005</td>\n      <td>E</td>\n      <td>D</td>\n    </tr>\n    <tr>\n      <th>16</th>\n      <td>VOL0017</td>\n      <td>939</td>\n      <td>1239</td>\n      <td>E</td>\n      <td>D</td>\n    </tr>\n    <tr>\n      <th>17</th>\n      <td>VOL0018</td>\n      <td>949</td>\n      <td>1249</td>\n      <td>E</td>\n      <td>A</td>\n    </tr>\n    <tr>\n      <th>18</th>\n      <td>VOL0019</td>\n      <td>964</td>\n      <td>1264</td>\n      <td>A</td>\n      <td>D</td>\n    </tr>\n    <tr>\n      <th>19</th>\n      <td>VOL0020</td>\n      <td>972</td>\n      <td>1272</td>\n      <td>E</td>\n      <td>A</td>\n    </tr>\n    <tr>\n      <th>20</th>\n      <td>VOL0021</td>\n      <td>973</td>\n      <td>1273</td>\n      <td>D</td>\n      <td>A</td>\n    </tr>\n    <tr>\n      <th>21</th>\n      <td>VOL0022</td>\n      <td>986</td>\n      <td>1286</td>\n      <td>C</td>\n      <td>D</td>\n    </tr>\n    <tr>\n      <th>22</th>\n      <td>VOL0023</td>\n      <td>1032</td>\n      <td>1332</td>\n      <td>F</td>\n      <td>A</td>\n    </tr>\n    <tr>\n      <th>23</th>\n      <td>VOL0024</td>\n      <td>1046</td>\n      <td>1346</td>\n      <td>F</td>\n      <td>D</td>\n    </tr>\n    <tr>\n      <th>24</th>\n      <td>VOL0025</td>\n      <td>1174</td>\n      <td>1474</td>\n      <td>F</td>\n      <td>D</td>\n    </tr>\n    <tr>\n      <th>25</th>\n      <td>VOL0026</td>\n      <td>1200</td>\n      <td>1500</td>\n      <td>A</td>\n      <td>D</td>\n    </tr>\n    <tr>\n      <th>26</th>\n      <td>VOL0027</td>\n      <td>1316</td>\n      <td>1616</td>\n      <td>B</td>\n      <td>D</td>\n    </tr>\n    <tr>\n      <th>27</th>\n      <td>VOL0028</td>\n      <td>1319</td>\n      <td>1619</td>\n      <td>F</td>\n      <td>D</td>\n    </tr>\n    <tr>\n      <th>28</th>\n      <td>VOL0029</td>\n      <td>1358</td>\n      <td>1658</td>\n      <td>B</td>\n      <td>D</td>\n    </tr>\n    <tr>\n      <th>29</th>\n      <td>VOL0030</td>\n      <td>1410</td>\n      <td>1710</td>\n      <td>D</td>\n      <td>A</td>\n    </tr>\n  </tbody>\n</table>\n</div>"
     },
     "execution_count": 10,
     "metadata": {},
     "output_type": "execute_result"
    }
   ],
   "source": [
    "gen = ScenarioGenerator(cf.scenario)\n",
    "vols = gen(cf.num)\n",
    "vols.to_dataframe()"
   ],
   "metadata": {
    "collapsed": false,
    "pycharm": {
     "name": "#%%\n"
    }
   }
  },
  {
   "cell_type": "code",
   "execution_count": 11,
   "outputs": [
    {
     "data": {
      "text/plain": "       code  ready   due category operation\n0   VOL0001     35   335        D         D\n1   VOL0002     55   355        C         A\n2   VOL0003     85   385        D         D\n3   VOL0004    121   421        A         A\n4   VOL0005    172   472        D         D\n5   VOL0006    198   498        F         A\n6   VOL0007    247   547        E         A\n7   VOL0008    253   553        B         A\n8   VOL0009    255   555        C         A\n9   VOL0010    312   612        E         A\n10  VOL0011    326   626        D         D\n11  VOL0012    364   664        E         D\n12  VOL0013    397   697        E         A\n13  VOL0014    401   701        E         A\n14  VOL0015    559   859        D         A\n15  VOL0016    705  1005        E         D\n16  VOL0017    939  1239        E         D\n17  VOL0018    949  1249        E         A\n18  VOL0019    964  1264        A         D\n19  VOL0020    972  1272        E         A\n20  VOL0021    973  1273        D         A\n21  VOL0022    986  1286        C         D\n22  VOL0023   1032  1332        F         A\n23  VOL0024   1046  1346        F         D\n24  VOL0025   1174  1474        F         D\n25  VOL0026   1200  1500        A         D\n26  VOL0027   1316  1616        B         D\n27  VOL0028   1319  1619        F         D\n28  VOL0029   1358  1658        B         D\n29  VOL0030   1410  1710        D         A",
      "text/html": "<div>\n<style scoped>\n    .dataframe tbody tr th:only-of-type {\n        vertical-align: middle;\n    }\n\n    .dataframe tbody tr th {\n        vertical-align: top;\n    }\n\n    .dataframe thead th {\n        text-align: right;\n    }\n</style>\n<table border=\"1\" class=\"dataframe\">\n  <thead>\n    <tr style=\"text-align: right;\">\n      <th></th>\n      <th>code</th>\n      <th>ready</th>\n      <th>due</th>\n      <th>category</th>\n      <th>operation</th>\n    </tr>\n  </thead>\n  <tbody>\n    <tr>\n      <th>0</th>\n      <td>VOL0001</td>\n      <td>35</td>\n      <td>335</td>\n      <td>D</td>\n      <td>D</td>\n    </tr>\n    <tr>\n      <th>1</th>\n      <td>VOL0002</td>\n      <td>55</td>\n      <td>355</td>\n      <td>C</td>\n      <td>A</td>\n    </tr>\n    <tr>\n      <th>2</th>\n      <td>VOL0003</td>\n      <td>85</td>\n      <td>385</td>\n      <td>D</td>\n      <td>D</td>\n    </tr>\n    <tr>\n      <th>3</th>\n      <td>VOL0004</td>\n      <td>121</td>\n      <td>421</td>\n      <td>A</td>\n      <td>A</td>\n    </tr>\n    <tr>\n      <th>4</th>\n      <td>VOL0005</td>\n      <td>172</td>\n      <td>472</td>\n      <td>D</td>\n      <td>D</td>\n    </tr>\n    <tr>\n      <th>5</th>\n      <td>VOL0006</td>\n      <td>198</td>\n      <td>498</td>\n      <td>F</td>\n      <td>A</td>\n    </tr>\n    <tr>\n      <th>6</th>\n      <td>VOL0007</td>\n      <td>247</td>\n      <td>547</td>\n      <td>E</td>\n      <td>A</td>\n    </tr>\n    <tr>\n      <th>7</th>\n      <td>VOL0008</td>\n      <td>253</td>\n      <td>553</td>\n      <td>B</td>\n      <td>A</td>\n    </tr>\n    <tr>\n      <th>8</th>\n      <td>VOL0009</td>\n      <td>255</td>\n      <td>555</td>\n      <td>C</td>\n      <td>A</td>\n    </tr>\n    <tr>\n      <th>9</th>\n      <td>VOL0010</td>\n      <td>312</td>\n      <td>612</td>\n      <td>E</td>\n      <td>A</td>\n    </tr>\n    <tr>\n      <th>10</th>\n      <td>VOL0011</td>\n      <td>326</td>\n      <td>626</td>\n      <td>D</td>\n      <td>D</td>\n    </tr>\n    <tr>\n      <th>11</th>\n      <td>VOL0012</td>\n      <td>364</td>\n      <td>664</td>\n      <td>E</td>\n      <td>D</td>\n    </tr>\n    <tr>\n      <th>12</th>\n      <td>VOL0013</td>\n      <td>397</td>\n      <td>697</td>\n      <td>E</td>\n      <td>A</td>\n    </tr>\n    <tr>\n      <th>13</th>\n      <td>VOL0014</td>\n      <td>401</td>\n      <td>701</td>\n      <td>E</td>\n      <td>A</td>\n    </tr>\n    <tr>\n      <th>14</th>\n      <td>VOL0015</td>\n      <td>559</td>\n      <td>859</td>\n      <td>D</td>\n      <td>A</td>\n    </tr>\n    <tr>\n      <th>15</th>\n      <td>VOL0016</td>\n      <td>705</td>\n      <td>1005</td>\n      <td>E</td>\n      <td>D</td>\n    </tr>\n    <tr>\n      <th>16</th>\n      <td>VOL0017</td>\n      <td>939</td>\n      <td>1239</td>\n      <td>E</td>\n      <td>D</td>\n    </tr>\n    <tr>\n      <th>17</th>\n      <td>VOL0018</td>\n      <td>949</td>\n      <td>1249</td>\n      <td>E</td>\n      <td>A</td>\n    </tr>\n    <tr>\n      <th>18</th>\n      <td>VOL0019</td>\n      <td>964</td>\n      <td>1264</td>\n      <td>A</td>\n      <td>D</td>\n    </tr>\n    <tr>\n      <th>19</th>\n      <td>VOL0020</td>\n      <td>972</td>\n      <td>1272</td>\n      <td>E</td>\n      <td>A</td>\n    </tr>\n    <tr>\n      <th>20</th>\n      <td>VOL0021</td>\n      <td>973</td>\n      <td>1273</td>\n      <td>D</td>\n      <td>A</td>\n    </tr>\n    <tr>\n      <th>21</th>\n      <td>VOL0022</td>\n      <td>986</td>\n      <td>1286</td>\n      <td>C</td>\n      <td>D</td>\n    </tr>\n    <tr>\n      <th>22</th>\n      <td>VOL0023</td>\n      <td>1032</td>\n      <td>1332</td>\n      <td>F</td>\n      <td>A</td>\n    </tr>\n    <tr>\n      <th>23</th>\n      <td>VOL0024</td>\n      <td>1046</td>\n      <td>1346</td>\n      <td>F</td>\n      <td>D</td>\n    </tr>\n    <tr>\n      <th>24</th>\n      <td>VOL0025</td>\n      <td>1174</td>\n      <td>1474</td>\n      <td>F</td>\n      <td>D</td>\n    </tr>\n    <tr>\n      <th>25</th>\n      <td>VOL0026</td>\n      <td>1200</td>\n      <td>1500</td>\n      <td>A</td>\n      <td>D</td>\n    </tr>\n    <tr>\n      <th>26</th>\n      <td>VOL0027</td>\n      <td>1316</td>\n      <td>1616</td>\n      <td>B</td>\n      <td>D</td>\n    </tr>\n    <tr>\n      <th>27</th>\n      <td>VOL0028</td>\n      <td>1319</td>\n      <td>1619</td>\n      <td>F</td>\n      <td>D</td>\n    </tr>\n    <tr>\n      <th>28</th>\n      <td>VOL0029</td>\n      <td>1358</td>\n      <td>1658</td>\n      <td>B</td>\n      <td>D</td>\n    </tr>\n    <tr>\n      <th>29</th>\n      <td>VOL0030</td>\n      <td>1410</td>\n      <td>1710</td>\n      <td>D</td>\n      <td>A</td>\n    </tr>\n  </tbody>\n</table>\n</div>"
     },
     "execution_count": 11,
     "metadata": {},
     "output_type": "execute_result"
    }
   ],
   "source": [
    "gen = ScenarioGenerator(cf.scenario)\n",
    "vols = gen(cf.num)\n",
    "vols.to_dataframe()"
   ],
   "metadata": {
    "collapsed": false,
    "pycharm": {
     "name": "#%%\n"
    }
   }
  },
  {
   "cell_type": "code",
   "execution_count": null,
   "outputs": [],
   "source": [],
   "metadata": {
    "collapsed": false,
    "pycharm": {
     "name": "#%%\n"
    }
   }
  }
 ],
 "metadata": {
  "kernelspec": {
   "display_name": "Python 3",
   "language": "python",
   "name": "python3"
  },
  "language_info": {
   "codemirror_mode": {
    "name": "ipython",
    "version": 2
   },
   "file_extension": ".py",
   "mimetype": "text/x-python",
   "name": "python",
   "nbconvert_exporter": "python",
   "pygments_lexer": "ipython2",
   "version": "2.7.6"
  }
 },
 "nbformat": 4,
 "nbformat_minor": 0
}