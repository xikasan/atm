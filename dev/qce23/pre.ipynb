{
 "cells": [
  {
   "cell_type": "code",
   "execution_count": 211,
   "outputs": [],
   "source": [
    "import numpy as np\n",
    "import xtools as xt\n",
    "import matplotlib.pyplot as plt\n",
    "import dimod\n",
    "from openjij import SASampler, SQASampler\n",
    "\n",
    "from atm.flight.generator import ScenarioGenerator, Scenario\n",
    "from atm.optimizer.objective import *\n",
    "from atm.separation import recat\n"
   ],
   "metadata": {
    "collapsed": false,
    "pycharm": {
     "name": "#%%\n"
    }
   }
  },
  {
   "cell_type": "code",
   "execution_count": 430,
   "outputs": [],
   "source": [
    "def get_default_config():\n",
    "    return xt.Config(dict(\n",
    "        seed=0,\n",
    "        num_runway=2,\n",
    "        num_vol=30,\n",
    "        penalty=100,\n",
    "        scenario=dict(\n",
    "            interval=60,\n",
    "            window=120,\n",
    "            mode=\"mix\",\n",
    "            standard=\"recat\"\n",
    "        )\n",
    "    ))\n"
   ],
   "metadata": {
    "collapsed": false,
    "pycharm": {
     "name": "#%%\n"
    }
   }
  },
  {
   "cell_type": "code",
   "execution_count": 13,
   "outputs": [],
   "source": [
    "def get_obj_multiple_runway(scenario: Scenario, separation: Separation, penalty_coef: float = 1.0) -> Callable:\n",
    "    def func(xs):\n",
    "        times = calc_assign_time_for_multi_runway(xs, scenario, separation)\n",
    "        delays = calc_delay_for_multi_runway(xs, times, scenario)\n",
    "        dues = get_due_for_multi_runway(xs, scenario)\n",
    "        is_overtimes = check_over_time_for_multi_runway(times, dues)\n",
    "        num_overtime = count_num_overtime(is_overtimes)\n",
    "\n",
    "        return np.mean(np.concatenate(delays)).astype(float) + penalty_coef * num_overtime\n",
    "    return func"
   ],
   "metadata": {
    "collapsed": false,
    "pycharm": {
     "name": "#%%\n"
    }
   }
  },
  {
   "cell_type": "code",
   "execution_count": 35,
   "outputs": [],
   "source": [
    "def decode(x):\n",
    "    return [\n",
    "        x[0, x[1,] == q]\n",
    "        for q in range(np.max(x[1,]) + 1)\n",
    "    ]"
   ],
   "metadata": {
    "collapsed": false,
    "pycharm": {
     "name": "#%%\n"
    }
   }
  },
  {
   "cell_type": "code",
   "execution_count": 278,
   "outputs": [],
   "source": [
    "def make_scenario(cf, separation_manner: Separation = recat.TBS, seed: int = None):\n",
    "    if seed is not None:\n",
    "        np.random.seed(seed)\n",
    "    gen = ScenarioGenerator(cf.scenario)\n",
    "    vols = gen(cf.num_vol)\n",
    "    obj = get_obj_multiple_runway(vols, separation_manner, cf.penalty)\n",
    "    def f(x):\n",
    "        x = decode(x)\n",
    "        cost = obj(x)\n",
    "        return cost\n",
    "    sep = make_separation_matrix(vols, separation_manner)\n",
    "    return vols, f, sep"
   ],
   "metadata": {
    "collapsed": false,
    "pycharm": {
     "name": "#%%\n"
    }
   }
  },
  {
   "cell_type": "markdown",
   "source": [
    "# Algorithms\n",
    "## 1. Swap-order\n",
    "Make pairs of vol.\n",
    "Assign decision variables to each pair qui decide the pair is whether swapped or not.\n",
    "\n",
    "\n",
    "## 2. Swap-queue\n",
    "Assign decision variables to each vol qui decide the assigned runway of vol is whether swapped of not.\n"
   ],
   "metadata": {
    "collapsed": false,
    "pycharm": {
     "name": "#%% md\n"
    }
   }
  },
  {
   "cell_type": "code",
   "execution_count": 96,
   "outputs": [],
   "source": [
    "def make_separation_matrix(vols: Scenario, sep: Separation = recat.TBS):\n",
    "    S = np.asarray([\n",
    "        [\n",
    "            sep(vol1, vol2)\n",
    "            for vol2 in vols\n",
    "        ] for vol1 in vols\n",
    "    ])\n",
    "    S *= 1 - np.eye(cf.num_vol).astype(int)\n",
    "    return S"
   ],
   "metadata": {
    "collapsed": false,
    "pycharm": {
     "name": "#%%\n"
    }
   }
  },
  {
   "cell_type": "code",
   "execution_count": 97,
   "outputs": [],
   "source": [
    "def make_pair(vols: Scenario, shift: bool = False):\n",
    "    pairs = np.asarray([[2 * k, 2 * k  + 1] for k in range(len(vols) // 2)])\n",
    "    if shift:\n",
    "        pairs = pairs + 1\n",
    "        if pairs[-1, 1] == len(vols):\n",
    "            pairs = pairs[:-1, ...]\n",
    "    return pairs"
   ],
   "metadata": {
    "collapsed": false,
    "pycharm": {
     "name": "#%%\n"
    }
   }
  },
  {
   "cell_type": "code",
   "execution_count": 142,
   "outputs": [],
   "source": [
    "def neg(x):\n",
    "    return 1- x"
   ],
   "metadata": {
    "collapsed": false,
    "pycharm": {
     "name": "#%%\n"
    }
   }
  },
  {
   "cell_type": "code",
   "execution_count": 406,
   "outputs": [],
   "source": [
    "def X(q):\n",
    "    return np.array([q, neg(q)])\n",
    "\n",
    "def retrieve_S(S, pj, pk):\n",
    "    return S[pj, ...][..., pk]"
   ],
   "metadata": {
    "collapsed": false,
    "pycharm": {
     "name": "#%%\n"
    }
   }
  },
  {
   "cell_type": "code",
   "execution_count": 407,
   "outputs": [],
   "source": [
    "def make_X_builder(qs):\n",
    "    def f(k):\n",
    "        return np.array([\n",
    "            [qs[k]],\n",
    "            [1 - qs[k]]\n",
    "        ])\n",
    "    return f\n",
    "\n",
    "\n",
    "def cost(pairs, S):\n",
    "    qs = np.asarray([dimod.Binary(f\"q{k}\") for k in range(len(pairs))])\n",
    "    X = make_X_builder(qs)\n",
    "\n",
    "    Lks = []\n",
    "\n",
    "    for k, pk in enumerate(pairs):\n",
    "        Xk = X(k)\n",
    "        notXk = neg(Xk)\n",
    "        Skk = retrieve_S(S, pk, pk)\n",
    "        Lk_ego = Xk.T @ Skk @ notXk\n",
    "        # Lk_ego = Skk * np.outer(Xk, notXk)\n",
    "\n",
    "        if k == 0:\n",
    "            Lks.append(Lk_ego)\n",
    "            continue\n",
    "\n",
    "        j = k - 1\n",
    "        pj = pairs[j]\n",
    "        Xj = X(j)\n",
    "        Sjk = retrieve_S(S, pj, pk)\n",
    "        Lk_inter = Xj.T @ Sjk @ notXk\n",
    "\n",
    "        Lks.append(Lk_inter + Lk_ego)\n",
    "\n",
    "    return np.sum(Lks)"
   ],
   "metadata": {
    "collapsed": false,
    "pycharm": {
     "name": "#%%\n"
    }
   }
  },
  {
   "cell_type": "code",
   "execution_count": 408,
   "outputs": [],
   "source": [
    "def build_model(vols, seps, xs, shift: bool = False):\n",
    "    print(\"xs:\", xs)\n",
    "    S = seps[xs, ...][..., xs]\n",
    "    pairs = make_pair(vols, shift=shift)\n",
    "\n",
    "    # build CQM\n",
    "    cqm = dimod.ConstrainedQuadraticModel()\n",
    "    cqm.set_objective(cost(pairs, S))\n",
    "\n",
    "    # convert to BQM\n",
    "    bqm, invert = dimod.cqm_to_bqm(cqm)\n",
    "\n",
    "    return bqm, pairs"
   ],
   "metadata": {
    "collapsed": false,
    "pycharm": {
     "name": "#%%\n"
    }
   }
  },
  {
   "cell_type": "code",
   "execution_count": 409,
   "outputs": [],
   "source": [
    "from collections import namedtuple\n",
    "Sample = namedtuple(\"Sample\", [\"sample\", \"energy\", \"num_occurrences\"])\n",
    "\n",
    "def solve_bqm(bqm, num_reads: int = 100):\n",
    "    sampler = SQASampler()\n",
    "    sampleset = sampler.sample(bqm, num_reads=num_reads)\n",
    "    first = sampleset.first\n",
    "    return Sample(\n",
    "        sample=np.asarray(list(first.sample.values())),\n",
    "        energy=first.energy,\n",
    "        num_occurrences=first.num_occurrences\n",
    "    )"
   ],
   "metadata": {
    "collapsed": false,
    "pycharm": {
     "name": "#%%\n"
    }
   }
  },
  {
   "cell_type": "code",
   "execution_count": 410,
   "outputs": [],
   "source": [
    "def initial_sol(cf):\n",
    "    nx = cf.num_vol\n",
    "    nr = cf.num_runway\n",
    "    temp_assign = np.concatenate([np.arange(nr) for _ in range(nx // nr + 1)])\n",
    "    return np.vstack([\n",
    "        np.arange(nx),\n",
    "        temp_assign[:nx]\n",
    "    ])"
   ],
   "metadata": {
    "collapsed": false,
    "pycharm": {
     "name": "#%%\n"
    }
   }
  },
  {
   "cell_type": "code",
   "execution_count": 411,
   "outputs": [],
   "source": [
    "def swap_xs(xs, pairs, sample):\n",
    "    sampled_indices = pairs.copy()\n",
    "    sampled_indices[sample.sample == 1, ...] = pairs[sample.sample == 1, ...][..., ::-1]\n",
    "    sampled_indices = sampled_indices.flatten()\n",
    "    if len(sampled_indices) < xs.shape[1]:\n",
    "        original_indices = xs[0, ...].copy()\n",
    "        original_indices[1:len(pairs)*2+1] = sampled_indices\n",
    "        sampled_indices = original_indices\n",
    "    return xs[..., sampled_indices]\n"
   ],
   "metadata": {
    "collapsed": false,
    "pycharm": {
     "name": "#%%\n"
    }
   }
  },
  {
   "cell_type": "code",
   "execution_count": 431,
   "outputs": [],
   "source": [
    "# generate problem\n",
    "cf = get_default_config()\n",
    "vols, obj, sep = make_scenario(cf)"
   ],
   "metadata": {
    "collapsed": false,
    "pycharm": {
     "name": "#%%\n"
    }
   }
  },
  {
   "cell_type": "code",
   "execution_count": 432,
   "outputs": [],
   "source": [
    "# initial sample\n",
    "xc = initial_sol(cf)\n",
    "ec = obj(xc)"
   ],
   "metadata": {
    "collapsed": false,
    "pycharm": {
     "name": "#%%\n"
    }
   }
  },
  {
   "cell_type": "code",
   "execution_count": 433,
   "outputs": [
    {
     "name": "stdout",
     "output_type": "stream",
     "text": [
      "=+=+=+=+=+=+=+=+=+=+=+=+=+=+=+=+=+=+=+=+=+=+=+=+=+=+=+=+=+=+\n",
      "xs: [ 0  1  2  3  4  5  6  7  8  9 10 11 12 13 14 15 16 17 18 19 20 21 22 23\n",
      " 24 25 26 27 28 29]\n",
      "[info] round:1 cost:225.06666666666666/best:225.06666666666666  sample:[ 0  1  2  3  5  4  7  6  9  8 10 11 12 13 15 14 17 16 19 18 21 20 22 23\n",
      " 24 25 26 27 28 29] pairs:[[ 0  1]\n",
      " [ 2  3]\n",
      " [ 4  5]\n",
      " [ 6  7]\n",
      " [ 8  9]\n",
      " [10 11]\n",
      " [12 13]\n",
      " [14 15]\n",
      " [16 17]\n",
      " [18 19]\n",
      " [20 21]\n",
      " [22 23]\n",
      " [24 25]\n",
      " [26 27]\n",
      " [28 29]] sample:[0 0 1 1 1 0 0 1 1 1 1 0 0 0 0]\n",
      "=+=+=+=+=+=+=+=+=+=+=+=+=+=+=+=+=+=+=+=+=+=+=+=+=+=+=+=+=+=+\n",
      "xs: [ 0  1  2  3  5  4  7  6  9  8 10 11 12 13 15 14 17 16 19 18 21 20 22 23\n",
      " 24 25 26 27 28 29]\n",
      "[info] round:2 cost:448.3333333333333/best:225.06666666666666  sample:[ 0  2  1  5  3  4  7  9  6  8 10 12 11 15 13 17 14 19 16 21 18 20 22 23\n",
      " 24 25 26 27 28 29] pairs:[[ 1  2]\n",
      " [ 3  4]\n",
      " [ 5  6]\n",
      " [ 7  8]\n",
      " [ 9 10]\n",
      " [11 12]\n",
      " [13 14]\n",
      " [15 16]\n",
      " [17 18]\n",
      " [19 20]\n",
      " [21 22]\n",
      " [23 24]\n",
      " [25 26]\n",
      " [27 28]] sample:[1 1 0 1 0 1 1 1 1 1 0 0 0 0]\n",
      "=+=+=+=+=+=+=+=+=+=+=+=+=+=+=+=+=+=+=+=+=+=+=+=+=+=+=+=+=+=+\n",
      "xs: [ 0  1  2  3  5  4  7  6  9  8 10 11 12 13 15 14 17 16 19 18 21 20 22 23\n",
      " 24 25 26 27 28 29]\n",
      "[info] round:3 cost:225.06666666666666/best:225.06666666666666  sample:[ 0  1  2  3  5  4  6  7  9  8 10 11 12 13 15 14 17 16 19 18 20 21 22 23\n",
      " 25 24 27 26 29 28] pairs:[[ 0  1]\n",
      " [ 2  3]\n",
      " [ 4  5]\n",
      " [ 6  7]\n",
      " [ 8  9]\n",
      " [10 11]\n",
      " [12 13]\n",
      " [14 15]\n",
      " [16 17]\n",
      " [18 19]\n",
      " [20 21]\n",
      " [22 23]\n",
      " [24 25]\n",
      " [26 27]\n",
      " [28 29]] sample:[0 0 0 1 0 0 0 0 0 0 1 0 1 1 1]\n",
      "=+=+=+=+=+=+=+=+=+=+=+=+=+=+=+=+=+=+=+=+=+=+=+=+=+=+=+=+=+=+\n",
      "xs: [ 0  1  2  3  5  4  6  7  9  8 10 11 12 13 15 14 17 16 19 18 20 21 22 23\n",
      " 25 24 27 26 29 28]\n",
      "[info] round:4 cost:654.4/best:225.06666666666666  sample:[ 0  2  1  5  3  4  6  9  7  8 10 11 12 15 13 17 14 19 16 20 18 21 22 23\n",
      " 25 24 27 26 29 29] pairs:[[ 1  2]\n",
      " [ 3  4]\n",
      " [ 5  6]\n",
      " [ 7  8]\n",
      " [ 9 10]\n",
      " [11 12]\n",
      " [13 14]\n",
      " [15 16]\n",
      " [17 18]\n",
      " [19 20]\n",
      " [21 22]\n",
      " [23 24]\n",
      " [25 26]\n",
      " [27 28]] sample:[1 1 0 1 0 0 1 1 1 1 0 0 0 0]\n",
      "=+=+=+=+=+=+=+=+=+=+=+=+=+=+=+=+=+=+=+=+=+=+=+=+=+=+=+=+=+=+\n",
      "xs: [ 0  1  2  3  5  4  6  7  9  8 10 11 12 13 15 14 17 16 19 18 20 21 22 23\n",
      " 25 24 27 26 29 28]\n",
      "[info] round:5 cost:225.06666666666666/best:225.06666666666666  sample:[ 0  1  2  3  4  5  7  6  8  9 11 10 13 12 15 14 16 17 19 18 21 20 22 23\n",
      " 24 25 26 27 28 29] pairs:[[ 0  1]\n",
      " [ 2  3]\n",
      " [ 4  5]\n",
      " [ 6  7]\n",
      " [ 8  9]\n",
      " [10 11]\n",
      " [12 13]\n",
      " [14 15]\n",
      " [16 17]\n",
      " [18 19]\n",
      " [20 21]\n",
      " [22 23]\n",
      " [24 25]\n",
      " [26 27]\n",
      " [28 29]] sample:[0 0 1 1 1 1 1 0 1 0 1 0 1 1 1]\n",
      "=+=+=+=+=+=+=+=+=+=+=+=+=+=+=+=+=+=+=+=+=+=+=+=+=+=+=+=+=+=+\n",
      "xs: [ 0  1  2  3  4  5  7  6  8  9 11 10 13 12 15 14 16 17 19 18 21 20 22 23\n",
      " 24 25 26 27 28 29]\n",
      "[info] round:6 cost:231.03333333333333/best:225.06666666666666  sample:[ 0  2  1  3  4  5  7  8  6  9 11 10 13 15 12 14 16 19 17 18 21 20 22 24\n",
      " 23 26 25 27 28 29] pairs:[[ 1  2]\n",
      " [ 3  4]\n",
      " [ 5  6]\n",
      " [ 7  8]\n",
      " [ 9 10]\n",
      " [11 12]\n",
      " [13 14]\n",
      " [15 16]\n",
      " [17 18]\n",
      " [19 20]\n",
      " [21 22]\n",
      " [23 24]\n",
      " [25 26]\n",
      " [27 28]] sample:[1 0 0 1 0 0 1 0 1 0 0 1 1 0]\n",
      "=+=+=+=+=+=+=+=+=+=+=+=+=+=+=+=+=+=+=+=+=+=+=+=+=+=+=+=+=+=+\n",
      "xs: [ 0  1  2  3  4  5  7  6  8  9 11 10 13 12 15 14 16 17 19 18 21 20 22 23\n",
      " 24 25 26 27 28 29]\n",
      "[info] round:7 cost:225.06666666666666/best:225.06666666666666  sample:[ 0  1  2  3  4  5  6  7  9  8 11 10 13 12 14 15 16 17 18 19 21 20 23 22\n",
      " 25 24 26 27 29 28] pairs:[[ 0  1]\n",
      " [ 2  3]\n",
      " [ 4  5]\n",
      " [ 6  7]\n",
      " [ 8  9]\n",
      " [10 11]\n",
      " [12 13]\n",
      " [14 15]\n",
      " [16 17]\n",
      " [18 19]\n",
      " [20 21]\n",
      " [22 23]\n",
      " [24 25]\n",
      " [26 27]\n",
      " [28 29]] sample:[0 0 0 1 1 0 0 1 0 1 0 1 1 0 1]\n",
      "=+=+=+=+=+=+=+=+=+=+=+=+=+=+=+=+=+=+=+=+=+=+=+=+=+=+=+=+=+=+\n",
      "xs: [ 0  1  2  3  4  5  6  7  9  8 11 10 13 12 14 15 16 17 18 19 21 20 23 22\n",
      " 25 24 26 27 29 28]\n",
      "[info] round:8 cost:544.6/best:225.06666666666666  sample:[ 0  2  1  3  4  5  6  9  7  8 11 10 13 12 14 16 15 18 17 19 21 20 23 25\n",
      " 22 26 24 27 29 29] pairs:[[ 1  2]\n",
      " [ 3  4]\n",
      " [ 5  6]\n",
      " [ 7  8]\n",
      " [ 9 10]\n",
      " [11 12]\n",
      " [13 14]\n",
      " [15 16]\n",
      " [17 18]\n",
      " [19 20]\n",
      " [21 22]\n",
      " [23 24]\n",
      " [25 26]\n",
      " [27 28]] sample:[1 0 0 1 0 0 0 1 1 0 0 1 1 0]\n",
      "=+=+=+=+=+=+=+=+=+=+=+=+=+=+=+=+=+=+=+=+=+=+=+=+=+=+=+=+=+=+\n",
      "xs: [ 0  1  2  3  4  5  6  7  9  8 11 10 13 12 14 15 16 17 18 19 21 20 23 22\n",
      " 25 24 26 27 29 28]\n",
      "[info] round:9 cost:225.06666666666666/best:225.06666666666666  sample:[ 0  1  2  3  4  5  6  7  9  8 11 10 12 13 15 14 17 16 18 19 21 20 22 23\n",
      " 24 25 26 27 29 28] pairs:[[ 0  1]\n",
      " [ 2  3]\n",
      " [ 4  5]\n",
      " [ 6  7]\n",
      " [ 8  9]\n",
      " [10 11]\n",
      " [12 13]\n",
      " [14 15]\n",
      " [16 17]\n",
      " [18 19]\n",
      " [20 21]\n",
      " [22 23]\n",
      " [24 25]\n",
      " [26 27]\n",
      " [28 29]] sample:[0 0 0 0 0 0 1 1 1 0 0 1 1 0 0]\n",
      "=+=+=+=+=+=+=+=+=+=+=+=+=+=+=+=+=+=+=+=+=+=+=+=+=+=+=+=+=+=+\n",
      "xs: [ 0  1  2  3  4  5  6  7  9  8 11 10 12 13 15 14 17 16 18 19 21 20 22 23\n",
      " 24 25 26 27 29 28]\n",
      "[info] round:10 cost:767.4666666666667/best:225.06666666666666  sample:[ 0  2  1  3  4  5  6  9  7  8 11 10 12 13 15 17 14 18 16 21 19 22 20 23\n",
      " 24 25 26 27 29 29] pairs:[[ 1  2]\n",
      " [ 3  4]\n",
      " [ 5  6]\n",
      " [ 7  8]\n",
      " [ 9 10]\n",
      " [11 12]\n",
      " [13 14]\n",
      " [15 16]\n",
      " [17 18]\n",
      " [19 20]\n",
      " [21 22]\n",
      " [23 24]\n",
      " [25 26]\n",
      " [27 28]] sample:[1 0 0 1 0 0 0 1 1 1 1 0 0 0]\n"
     ]
    }
   ],
   "source": [
    "for i in range(10):\n",
    "    print(\"=+\"*30)\n",
    "    bqm, pairs = build_model(vols, sep, xc[0, ...], shift=bool(i % 2))\n",
    "    sample = solve_bqm(bqm)\n",
    "    xp = swap_xs(xc, pairs, sample)\n",
    "    ep = obj(xp)\n",
    "\n",
    "    if ep <= ec:\n",
    "        xc = xp\n",
    "        ec = ep\n",
    "    print(f\"[info] round:{i+1} cost:{ep}/best:{ec}  sample:{xp[0, ...]} pairs:{pairs} sample:{sample.sample}\")"
   ],
   "metadata": {
    "collapsed": false,
    "pycharm": {
     "name": "#%%\n"
    }
   }
  },
  {
   "cell_type": "code",
   "execution_count": 372,
   "outputs": [
    {
     "data": {
      "text/plain": "      code  ready  due category operation\n0  VOL0001     11  131        F         A\n1  VOL0002     23  143        D         A\n2  VOL0003     49  169        C         A\n3  VOL0004    108  228        D         A\n4  VOL0005    177  297        C         D\n5  VOL0006    190  310        C         D",
      "text/html": "<div>\n<style scoped>\n    .dataframe tbody tr th:only-of-type {\n        vertical-align: middle;\n    }\n\n    .dataframe tbody tr th {\n        vertical-align: top;\n    }\n\n    .dataframe thead th {\n        text-align: right;\n    }\n</style>\n<table border=\"1\" class=\"dataframe\">\n  <thead>\n    <tr style=\"text-align: right;\">\n      <th></th>\n      <th>code</th>\n      <th>ready</th>\n      <th>due</th>\n      <th>category</th>\n      <th>operation</th>\n    </tr>\n  </thead>\n  <tbody>\n    <tr>\n      <th>0</th>\n      <td>VOL0001</td>\n      <td>11</td>\n      <td>131</td>\n      <td>F</td>\n      <td>A</td>\n    </tr>\n    <tr>\n      <th>1</th>\n      <td>VOL0002</td>\n      <td>23</td>\n      <td>143</td>\n      <td>D</td>\n      <td>A</td>\n    </tr>\n    <tr>\n      <th>2</th>\n      <td>VOL0003</td>\n      <td>49</td>\n      <td>169</td>\n      <td>C</td>\n      <td>A</td>\n    </tr>\n    <tr>\n      <th>3</th>\n      <td>VOL0004</td>\n      <td>108</td>\n      <td>228</td>\n      <td>D</td>\n      <td>A</td>\n    </tr>\n    <tr>\n      <th>4</th>\n      <td>VOL0005</td>\n      <td>177</td>\n      <td>297</td>\n      <td>C</td>\n      <td>D</td>\n    </tr>\n    <tr>\n      <th>5</th>\n      <td>VOL0006</td>\n      <td>190</td>\n      <td>310</td>\n      <td>C</td>\n      <td>D</td>\n    </tr>\n  </tbody>\n</table>\n</div>"
     },
     "execution_count": 372,
     "metadata": {},
     "output_type": "execute_result"
    }
   ],
   "source": [
    "vols.to_dataframe()"
   ],
   "metadata": {
    "collapsed": false,
    "pycharm": {
     "name": "#%%\n"
    }
   }
  },
  {
   "cell_type": "code",
   "execution_count": 373,
   "outputs": [
    {
     "data": {
      "text/plain": "array([[  0,  82,  82,  82,  82,  82],\n       [148,   0,  74,  74,  75,  75],\n       [180,  90,   0,  90,  90,  90],\n       [148,  74,  74,   0,  75,  75],\n       [180,  90,  90,  90,   0,  90],\n       [180,  90,  90,  90,  90,   0]])"
     },
     "execution_count": 373,
     "metadata": {},
     "output_type": "execute_result"
    }
   ],
   "source": [
    "sep"
   ],
   "metadata": {
    "collapsed": false,
    "pycharm": {
     "name": "#%%\n"
    }
   }
  },
  {
   "cell_type": "code",
   "execution_count": 343,
   "outputs": [],
   "source": [
    "bqm, pairs = build_model(vols, sep, xc[0, ...])"
   ],
   "metadata": {
    "collapsed": false,
    "pycharm": {
     "name": "#%%\n"
    }
   }
  },
  {
   "cell_type": "code",
   "execution_count": 344,
   "outputs": [],
   "source": [
    "sample = solve_bqm(bqm)"
   ],
   "metadata": {
    "collapsed": false,
    "pycharm": {
     "name": "#%%\n"
    }
   }
  },
  {
   "cell_type": "code",
   "execution_count": 347,
   "outputs": [
    {
     "data": {
      "text/plain": "array([0, 1, 2, 3, 5, 4])"
     },
     "execution_count": 347,
     "metadata": {},
     "output_type": "execute_result"
    }
   ],
   "source": [
    "sampled_indices = pairs.copy()\n",
    "sampled_indices[sample.sample == 1, ...] = pairs[sample.sample == 1, ...][..., ::-1]\n",
    "sampled_indices.flatten()"
   ],
   "metadata": {
    "collapsed": false,
    "pycharm": {
     "name": "#%%\n"
    }
   }
  },
  {
   "cell_type": "code",
   "execution_count": 348,
   "outputs": [
    {
     "data": {
      "text/plain": "array([[0, 1, 2, 3, 5, 4],\n       [0, 1, 0, 1, 1, 0]])"
     },
     "execution_count": 348,
     "metadata": {},
     "output_type": "execute_result"
    }
   ],
   "source": [
    "xp = xc[..., sampled_indices.flatten()]\n",
    "xp"
   ],
   "metadata": {
    "collapsed": false,
    "pycharm": {
     "name": "#%%\n"
    }
   }
  },
  {
   "cell_type": "code",
   "execution_count": 351,
   "outputs": [
    {
     "data": {
      "text/plain": "(131.0, 131.0)"
     },
     "execution_count": 351,
     "metadata": {},
     "output_type": "execute_result"
    }
   ],
   "source": [
    "ep = obj(xp)\n",
    "ep"
   ],
   "metadata": {
    "collapsed": false,
    "pycharm": {
     "name": "#%%\n"
    }
   }
  },
  {
   "cell_type": "code",
   "execution_count": 320,
   "outputs": [
    {
     "name": "stdout",
     "output_type": "stream",
     "text": [
      "[[0 1 2 3 4 5]\n",
      " [0 1 0 1 0 1]]\n",
      "[0 0 1]\n"
     ]
    },
    {
     "data": {
      "text/plain": "array([[0, 1, 2, 3, 4, 5],\n       [0, 1, 2, 3, 4, 5],\n       [0, 1, 0, 1, 0, 1]])"
     },
     "execution_count": 320,
     "metadata": {},
     "output_type": "execute_result"
    }
   ],
   "source": [
    "xp = xc.copy()\n",
    "print(xp)\n",
    "print(sample.sample)\n",
    "xp[sample.sample]\n"
   ],
   "metadata": {
    "collapsed": false,
    "pycharm": {
     "name": "#%%\n"
    }
   }
  },
  {
   "cell_type": "code",
   "execution_count": 352,
   "outputs": [
    {
     "data": {
      "text/plain": "True"
     },
     "execution_count": 352,
     "metadata": {},
     "output_type": "execute_result"
    }
   ],
   "source": [
    "bool(1)\n"
   ],
   "metadata": {
    "collapsed": false,
    "pycharm": {
     "name": "#%%\n"
    }
   }
  },
  {
   "cell_type": "code",
   "execution_count": null,
   "outputs": [],
   "source": [],
   "metadata": {
    "collapsed": false,
    "pycharm": {
     "name": "#%%\n"
    }
   }
  }
 ],
 "metadata": {
  "kernelspec": {
   "display_name": "Python 3",
   "language": "python",
   "name": "python3"
  },
  "language_info": {
   "codemirror_mode": {
    "name": "ipython",
    "version": 2
   },
   "file_extension": ".py",
   "mimetype": "text/x-python",
   "name": "python",
   "nbconvert_exporter": "python",
   "pygments_lexer": "ipython2",
   "version": "2.7.6"
  }
 },
 "nbformat": 4,
 "nbformat_minor": 0
}