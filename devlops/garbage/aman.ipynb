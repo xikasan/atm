{
 "cells": [
  {
   "cell_type": "code",
   "execution_count": 1,
   "metadata": {
    "collapsed": true,
    "pycharm": {
     "name": "#%%\n"
    }
   },
   "outputs": [],
   "source": [
    "import mip\n",
    "import numpy as np\n",
    "import matplotlib.pyplot as plt\n",
    "from IPython.display import display"
   ]
  },
  {
   "cell_type": "markdown",
   "source": [
    "## problem settings\n",
    "for step 1, Holding + PMS\n",
    "Given conditions\n",
    "- Start time $T_0$ and positions $P_0$\n",
    "- **Goal time** $T_G$ and positions $P_G$\n",
    "- Holding/PMS position and length $T_{hold}$, $T_{pms}$, $\\theta_{\\max}$\n",
    "- Base length $T_{base}$\n",
    "for multiple aircraft\n",
    "\n",
    "### step 1-1\n",
    "Only PMS is considered.\n",
    "$$\n",
    "\\begin{eqnarray}\n",
    "\\min &\\quad& \\sum_j (T_j - T_{jg}) \\\\\n",
    "\\mathrm{s.t.} && T_j = T_{j0} + T_{jb} + \\sum_p T_{p} x_{jp}, \\quad \\forall j \\\\\n",
    "&& T_j \\ge T_{gj}, \\quad \\forall j \\\\\n",
    "&& \\sum_p x_{jp} = 1, \\quad \\forall j\n",
    "\\end{eqnarray}\n",
    "$$\n",
    "Path overview:\n",
    "![](../../torl/docs/step1-1.png)\n",
    "\n",
    "\n"
   ],
   "metadata": {
    "collapsed": false,
    "pycharm": {
     "name": "#%% md\n"
    }
   }
  },
  {
   "cell_type": "code",
   "execution_count": 2,
   "outputs": [
    {
     "data": {
      "text/plain": "[0.0, 13.962634015954634, 27.92526803190927, 41.8879020478639]"
     },
     "execution_count": 2,
     "metadata": {},
     "output_type": "execute_result"
    }
   ],
   "source": [
    "# velocity\n",
    "v = 200  # [m/s] = 720 km/h ~ 390 kt\n",
    "v /= 1000\n",
    "# base length in distance\n",
    "L = 80  # [km]\n",
    "\n",
    "# pms parameters\n",
    "radius_pms = 40.  # [km]\n",
    "max_theta_pms = 60.  # [deg]\n",
    "num_pms_angle = 3\n",
    "\n",
    "theta_pms = max_theta_pms / num_pms_angle\n",
    "L_pms = 2 * np.pi * radius_pms * (theta_pms / 360)\n",
    "Ls_pms = [L_pms * (i) for i in range(num_pms_angle+1)]\n",
    "Ls_pms"
   ],
   "metadata": {
    "collapsed": false,
    "pycharm": {
     "name": "#%%\n"
    }
   }
  },
  {
   "cell_type": "code",
   "execution_count": 3,
   "outputs": [
    {
     "data": {
      "text/plain": "[[0.0, 13.962634015954634, 27.92526803190927, 41.8879020478639]]"
     },
     "execution_count": 3,
     "metadata": {},
     "output_type": "execute_result"
    }
   ],
   "source": [
    "# aircraft settings\n",
    "# num of aircraft\n",
    "N = 1\n",
    "J = np.arange(N)\n",
    "# start times\n",
    "T0 = [0]\n",
    "# goal times\n",
    "Tg = [400]\n",
    "# base lengths in time\n",
    "Tbase = [L / v for _ in range(N)]\n",
    "Tpms = [\n",
    "    [l_pms for l_pms in Ls_pms]\n",
    "    for _ in range(N)\n",
    "]\n",
    "Tpms"
   ],
   "metadata": {
    "collapsed": false,
    "pycharm": {
     "name": "#%%\n"
    }
   }
  },
  {
   "cell_type": "markdown",
   "source": [
    "### solution pattern 1 as MIP"
   ],
   "metadata": {
    "collapsed": false,
    "pycharm": {
     "name": "#%% md\n"
    }
   }
  },
  {
   "cell_type": "code",
   "execution_count": 4,
   "outputs": [
    {
     "name": "stderr",
     "output_type": "stream",
     "text": [
      "An error occurred while loading the CBC library:\t cannot load library '/opt/homebrew/Caskroom/miniconda/base/envs/atm/lib/python3.8/site-packages/mip/libraries/cbc-c-darwin-x86-64.dylib': dlopen(/opt/homebrew/Caskroom/miniconda/base/envs/atm/lib/python3.8/site-packages/mip/libraries/cbc-c-darwin-x86-64.dylib, 0x0002): tried: '/opt/homebrew/Caskroom/miniconda/base/envs/atm/lib/python3.8/site-packages/mip/libraries/cbc-c-darwin-x86-64.dylib' (mach-o file, but is an incompatible architecture (have 'x86_64', need 'arm64e')).  Additionally, ctypes.util.find_library() did not manage to locate a library called '/opt/homebrew/Caskroom/miniconda/base/envs/atm/lib/python3.8/site-packages/mip/libraries/cbc-c-darwin-x86-64.dylib'\n",
      "\n"
     ]
    },
    {
     "ename": "NameError",
     "evalue": "name 'cbclib' is not defined",
     "output_type": "error",
     "traceback": [
      "\u001B[0;31m---------------------------------------------------------------------------\u001B[0m",
      "\u001B[0;31mNameError\u001B[0m                                 Traceback (most recent call last)",
      "Input \u001B[0;32mIn [4]\u001B[0m, in \u001B[0;36m<cell line: 1>\u001B[0;34m()\u001B[0m\n\u001B[0;32m----> 1\u001B[0m model1 \u001B[38;5;241m=\u001B[39m \u001B[43mmip\u001B[49m\u001B[38;5;241;43m.\u001B[39;49m\u001B[43mModel\u001B[49m\u001B[43m(\u001B[49m\u001B[43m)\u001B[49m\n\u001B[1;32m      2\u001B[0m xs \u001B[38;5;241m=\u001B[39m [model1\u001B[38;5;241m.\u001B[39madd_var(\u001B[38;5;124mf\u001B[39m\u001B[38;5;124m\"\u001B[39m\u001B[38;5;124mx_\u001B[39m\u001B[38;5;132;01m{\u001B[39;00mj\u001B[38;5;132;01m}\u001B[39;00m\u001B[38;5;124m\"\u001B[39m, var_type\u001B[38;5;241m=\u001B[39mmip\u001B[38;5;241m.\u001B[39mBINARY) \u001B[38;5;28;01mfor\u001B[39;00m j \u001B[38;5;129;01min\u001B[39;00m J]\n\u001B[1;32m      3\u001B[0m Ts \u001B[38;5;241m=\u001B[39m [model1\u001B[38;5;241m.\u001B[39madd_var(\u001B[38;5;124mf\u001B[39m\u001B[38;5;124m\"\u001B[39m\u001B[38;5;124mT_\u001B[39m\u001B[38;5;132;01m{\u001B[39;00mj\u001B[38;5;132;01m}\u001B[39;00m\u001B[38;5;124m\"\u001B[39m, var_type\u001B[38;5;241m=\u001B[39mmip\u001B[38;5;241m.\u001B[39mCONTINUOUS) \u001B[38;5;28;01mfor\u001B[39;00m j \u001B[38;5;129;01min\u001B[39;00m J]\n",
      "File \u001B[0;32m/opt/homebrew/Caskroom/miniconda/base/envs/atm/lib/python3.8/site-packages/mip/model.py:98\u001B[0m, in \u001B[0;36mModel.__init__\u001B[0;34m(self, name, sense, solver_name, solver)\u001B[0m\n\u001B[1;32m     96\u001B[0m     \u001B[38;5;28mself\u001B[39m\u001B[38;5;241m.\u001B[39msolver_name \u001B[38;5;241m=\u001B[39m mip\u001B[38;5;241m.\u001B[39mGUROBI\n\u001B[1;32m     97\u001B[0m \u001B[38;5;28;01melse\u001B[39;00m:\n\u001B[0;32m---> 98\u001B[0m     \u001B[38;5;28;01mimport\u001B[39;00m \u001B[38;5;21;01mmip\u001B[39;00m\u001B[38;5;21;01m.\u001B[39;00m\u001B[38;5;21;01mcbc\u001B[39;00m\n\u001B[1;32m    100\u001B[0m     \u001B[38;5;28mself\u001B[39m\u001B[38;5;241m.\u001B[39msolver \u001B[38;5;241m=\u001B[39m mip\u001B[38;5;241m.\u001B[39mcbc\u001B[38;5;241m.\u001B[39mSolverCbc(\u001B[38;5;28mself\u001B[39m, name, sense)\n\u001B[1;32m    101\u001B[0m     \u001B[38;5;28mself\u001B[39m\u001B[38;5;241m.\u001B[39msolver_name \u001B[38;5;241m=\u001B[39m mip\u001B[38;5;241m.\u001B[39mCBC\n",
      "File \u001B[0;32m/opt/homebrew/Caskroom/miniconda/base/envs/atm/lib/python3.8/site-packages/mip/cbc.py:603\u001B[0m, in \u001B[0;36m<module>\u001B[0;34m\u001B[0m\n\u001B[1;32m    599\u001B[0m INT_PARAM_CLIQUE_MERGING \u001B[38;5;241m=\u001B[39m \u001B[38;5;241m18\u001B[39m\n\u001B[1;32m    600\u001B[0m INT_PARAM_MAX_NODES_NOT_IMPROV_FS \u001B[38;5;241m=\u001B[39m \u001B[38;5;241m19\u001B[39m\n\u001B[0;32m--> 603\u001B[0m Osi_getNumCols \u001B[38;5;241m=\u001B[39m \u001B[43mcbclib\u001B[49m\u001B[38;5;241m.\u001B[39mOsi_getNumCols\n\u001B[1;32m    604\u001B[0m Osi_getColSolution \u001B[38;5;241m=\u001B[39m cbclib\u001B[38;5;241m.\u001B[39mOsi_getColSolution\n\u001B[1;32m    605\u001B[0m Osi_getIntegerTolerance \u001B[38;5;241m=\u001B[39m cbclib\u001B[38;5;241m.\u001B[39mOsi_getIntegerTolerance\n",
      "\u001B[0;31mNameError\u001B[0m: name 'cbclib' is not defined"
     ]
    }
   ],
   "source": [
    "model1 = mip.Model()\n",
    "xs = [model1.add_var(f\"x_{j}\", var_type=mip.BINARY) for j in J]\n",
    "Ts = [model1.add_var(f\"T_{j}\", var_type=mip.CONTINUOUS) for j in J]\n",
    "display(xs)\n",
    "display(Ts)\n"
   ],
   "metadata": {
    "collapsed": false,
    "pycharm": {
     "name": "#%%\n"
    }
   }
  },
  {
   "cell_type": "code",
   "execution_count": null,
   "outputs": [],
   "source": [],
   "metadata": {
    "collapsed": false,
    "pycharm": {
     "name": "#%%\n"
    }
   }
  },
  {
   "cell_type": "code",
   "execution_count": null,
   "outputs": [],
   "source": [],
   "metadata": {
    "collapsed": false,
    "pycharm": {
     "name": "#%%\n"
    }
   }
  }
 ],
 "metadata": {
  "kernelspec": {
   "display_name": "Python 3",
   "language": "python",
   "name": "python3"
  },
  "language_info": {
   "codemirror_mode": {
    "name": "ipython",
    "version": 2
   },
   "file_extension": ".py",
   "mimetype": "text/x-python",
   "name": "python",
   "nbconvert_exporter": "python",
   "pygments_lexer": "ipython2",
   "version": "2.7.6"
  }
 },
 "nbformat": 4,
 "nbformat_minor": 0
}