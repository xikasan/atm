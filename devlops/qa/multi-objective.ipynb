{
 "cells": [
  {
   "cell_type": "code",
   "execution_count": 45,
   "outputs": [],
   "source": [
    "import numpy as np\n",
    "import dimod\n",
    "import xtools as xt\n",
    "import matplotlib.pyplot as plt\n",
    "from openjij import SQASampler\n",
    "\n",
    "from typing import Callable, Dict, List, Optional, Type, Union\n",
    "\n",
    "from atm.flight.generator import ScenarioGenerator, Scenario\n",
    "from atm.separation import recat\n",
    "from atm.separation.base import Separation\n",
    "from atm.flight.flight import DUMMY_FLIGHT_RECAT"
   ],
   "metadata": {
    "collapsed": false,
    "pycharm": {
     "name": "#%%\n"
    }
   }
  },
  {
   "cell_type": "code",
   "execution_count": 23,
   "outputs": [],
   "source": [
    "NP = np.ndarray"
   ],
   "metadata": {
    "collapsed": false,
    "pycharm": {
     "name": "#%%\n"
    }
   }
  },
  {
   "cell_type": "code",
   "execution_count": 6,
   "outputs": [],
   "source": [
    "num_vol = 10\n",
    "num_rwy = 2\n",
    "sep = recat.TBS\n",
    "\n",
    "cf = xt.Config(dict(\n",
    "    dt=10,\n",
    "    num_vol=30,\n",
    "    scenario=dict(\n",
    "        interval=60,\n",
    "        window=200,\n",
    "        mode=\"mix\",\n",
    "        standard=\"recat\"\n",
    "    )\n",
    "))\n",
    "gen = ScenarioGenerator(cf.scenario)"
   ],
   "metadata": {
    "collapsed": false,
    "pycharm": {
     "name": "#%%\n"
    }
   }
  },
  {
   "cell_type": "code",
   "execution_count": 7,
   "outputs": [
    {
     "data": {
      "text/plain": "      code  ready  due category operation\n0  VOL0001     86  286        F         A\n1  VOL0002    143  343        F         D\n2  VOL0003    169  369        F         A\n3  VOL0004    201  401        E         D\n4  VOL0005    209  409        B         A\n5  VOL0006    274  474        F         D\n6  VOL0007    312  512        D         A\n7  VOL0008    319  519        A         A\n8  VOL0009    589  789        E         D\n9  VOL0010    618  818        C         A",
      "text/html": "<div>\n<style scoped>\n    .dataframe tbody tr th:only-of-type {\n        vertical-align: middle;\n    }\n\n    .dataframe tbody tr th {\n        vertical-align: top;\n    }\n\n    .dataframe thead th {\n        text-align: right;\n    }\n</style>\n<table border=\"1\" class=\"dataframe\">\n  <thead>\n    <tr style=\"text-align: right;\">\n      <th></th>\n      <th>code</th>\n      <th>ready</th>\n      <th>due</th>\n      <th>category</th>\n      <th>operation</th>\n    </tr>\n  </thead>\n  <tbody>\n    <tr>\n      <th>0</th>\n      <td>VOL0001</td>\n      <td>86</td>\n      <td>286</td>\n      <td>F</td>\n      <td>A</td>\n    </tr>\n    <tr>\n      <th>1</th>\n      <td>VOL0002</td>\n      <td>143</td>\n      <td>343</td>\n      <td>F</td>\n      <td>D</td>\n    </tr>\n    <tr>\n      <th>2</th>\n      <td>VOL0003</td>\n      <td>169</td>\n      <td>369</td>\n      <td>F</td>\n      <td>A</td>\n    </tr>\n    <tr>\n      <th>3</th>\n      <td>VOL0004</td>\n      <td>201</td>\n      <td>401</td>\n      <td>E</td>\n      <td>D</td>\n    </tr>\n    <tr>\n      <th>4</th>\n      <td>VOL0005</td>\n      <td>209</td>\n      <td>409</td>\n      <td>B</td>\n      <td>A</td>\n    </tr>\n    <tr>\n      <th>5</th>\n      <td>VOL0006</td>\n      <td>274</td>\n      <td>474</td>\n      <td>F</td>\n      <td>D</td>\n    </tr>\n    <tr>\n      <th>6</th>\n      <td>VOL0007</td>\n      <td>312</td>\n      <td>512</td>\n      <td>D</td>\n      <td>A</td>\n    </tr>\n    <tr>\n      <th>7</th>\n      <td>VOL0008</td>\n      <td>319</td>\n      <td>519</td>\n      <td>A</td>\n      <td>A</td>\n    </tr>\n    <tr>\n      <th>8</th>\n      <td>VOL0009</td>\n      <td>589</td>\n      <td>789</td>\n      <td>E</td>\n      <td>D</td>\n    </tr>\n    <tr>\n      <th>9</th>\n      <td>VOL0010</td>\n      <td>618</td>\n      <td>818</td>\n      <td>C</td>\n      <td>A</td>\n    </tr>\n  </tbody>\n</table>\n</div>"
     },
     "execution_count": 7,
     "metadata": {},
     "output_type": "execute_result"
    }
   ],
   "source": [
    "vols = gen(num_vol)\n",
    "vols.to_dataframe()"
   ],
   "metadata": {
    "collapsed": false,
    "pycharm": {
     "name": "#%%\n"
    }
   }
  },
  {
   "cell_type": "code",
   "execution_count": 61,
   "outputs": [],
   "source": [
    "def calc_assign_time(indices: NP, scenario: Scenario, separation: Separation) -> NP:\n",
    "    past_vol = DUMMY_FLIGHT_RECAT\n",
    "    past_time = past_vol.ready\n",
    "\n",
    "    times = []\n",
    "    for idx in indices:\n",
    "        vol = scenario[idx]\n",
    "        sep_time = separation(past_vol, vol)\n",
    "        time = np.max([\n",
    "            vol.ready,\n",
    "            past_time + sep_time\n",
    "        ])\n",
    "        times.append(time)\n",
    "\n",
    "        past_vol = vol\n",
    "        past_time = time\n",
    "\n",
    "    return np.asarray(times)\n",
    "\n",
    "\n",
    "def calc_delay(indices: NP, assigned_times: NP, scenario: Scenario) -> NP:\n",
    "    readies = np.array([scenario[idx].ready for idx in indices])\n",
    "    return assigned_times - readies\n",
    "\n",
    "def get_due(indices: NP, scenario: Scenario) -> NP:\n",
    "    return np.array([\n",
    "        scenario[idx].due for idx in indices\n",
    "    ])\n",
    "\n",
    "def check_overtime(assigned_times: NP, dues: NP) -> NP:\n",
    "    return np.array([\n",
    "        assigned_time > due\n",
    "        for assigned_time, due in zip(assigned_times, dues)\n",
    "    ])"
   ],
   "metadata": {
    "collapsed": false,
    "pycharm": {
     "name": "#%%\n"
    }
   }
  },
  {
   "cell_type": "code",
   "execution_count": 62,
   "outputs": [],
   "source": [
    "def calc_assign_time_for_multi_runway(indices: NP, scenario: Scenario, separation: Separation) -> List[NP,]:\n",
    "    return [\n",
    "        calc_assign_time(indices_, scenario, separation)\n",
    "        for indices_ in indices\n",
    "    ]\n",
    "\n",
    "\n",
    "def calc_delay_for_multi_runway(indices: NP, assigned_times: List[NP], scenario: Scenario) -> List[NP]:\n",
    "    return [\n",
    "        calc_delay(indices_, times_, scenario)\n",
    "        for indices_, times_ in zip(indices, assigned_times)\n",
    "    ]\n",
    "\n",
    "def get_due_for_multi_runway(indices: NP, scenario: Scenario) -> List[NP]:\n",
    "    return [\n",
    "        get_due(indices_, scenario)\n",
    "        for indices_ in indices\n",
    "    ]\n",
    "\n",
    "def check_over_time_for_multi_runway(assigned_times: List[NP], dues: List[NP]) -> List[NP]:\n",
    "    return [\n",
    "        check_overtime(assigned_times_, dues_)\n",
    "        for assigned_times_, dues_ in zip(assigned_times, dues)\n",
    "    ]\n",
    "\n",
    "def count_num_overtime(is_overtimes: NP) -> int:\n",
    "    return np.sum(np.asarray(is_overtimes).astype(int)).item()"
   ],
   "metadata": {
    "collapsed": false,
    "pycharm": {
     "name": "#%%\n"
    }
   }
  },
  {
   "cell_type": "code",
   "execution_count": 63,
   "outputs": [],
   "source": [
    "def get_objective(scenario: Scenario, separation: Separation, penalty_coef: float = 1.0) -> Callable:\n",
    "    def func(xs):\n",
    "        times = calc_assign_time_for_multi_runway(xs, scenario, separation)\n",
    "        delays = calc_delay_for_multi_runway(xs, times, scenario)\n",
    "        dues = get_due_for_multi_runway(xs, scenario)\n",
    "        is_overtimes = check_over_time_for_multi_runway(times, dues)\n",
    "        num_overtime = count_num_overtime(is_overtimes)\n",
    "\n",
    "        return np.mean(delays).astype(float) + penalty_coef * num_overtime\n",
    "    return func"
   ],
   "metadata": {
    "collapsed": false,
    "pycharm": {
     "name": "#%%\n"
    }
   }
  },
  {
   "cell_type": "code",
   "execution_count": 64,
   "outputs": [],
   "source": [
    "obj = get_objective(vols, sep, 0.0)"
   ],
   "metadata": {
    "collapsed": false,
    "pycharm": {
     "name": "#%%\n"
    }
   }
  },
  {
   "cell_type": "code",
   "execution_count": 67,
   "outputs": [
    {
     "data": {
      "text/plain": "178.8"
     },
     "execution_count": 67,
     "metadata": {},
     "output_type": "execute_result"
    }
   ],
   "source": [
    "xs = np.random.choice(np.arange(num_vol), num_vol, replace=False).reshape((num_rwy, num_vol // num_rwy))\n",
    "obj(xs)"
   ],
   "metadata": {
    "collapsed": false,
    "pycharm": {
     "name": "#%%\n"
    }
   }
  },
  {
   "cell_type": "code",
   "execution_count": null,
   "outputs": [],
   "source": [],
   "metadata": {
    "collapsed": false,
    "pycharm": {
     "name": "#%%\n"
    }
   }
  }
 ],
 "metadata": {
  "kernelspec": {
   "display_name": "Python 3",
   "language": "python",
   "name": "python3"
  },
  "language_info": {
   "codemirror_mode": {
    "name": "ipython",
    "version": 2
   },
   "file_extension": ".py",
   "mimetype": "text/x-python",
   "name": "python",
   "nbconvert_exporter": "python",
   "pygments_lexer": "ipython2",
   "version": "2.7.6"
  }
 },
 "nbformat": 4,
 "nbformat_minor": 0
}