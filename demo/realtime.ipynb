{
 "cells": [
  {
   "cell_type": "code",
   "execution_count": 1,
   "outputs": [],
   "source": [
    "import numpy as np\n",
    "import xsim\n",
    "import matplotlib.pyplot as plt\n",
    "import matplotlib.patches as ptc\n",
    "\n",
    "from atm.flight.operation import Operation\n",
    "from atm.flight.flight import DUMMY_FLIGHT_RECAT\n",
    "from atm.separation import recat\n",
    "\n",
    "from atm.simulator.generator import RealTimeScenarioGenerator\n",
    "from atm.simulator.stripe import Stripe\n"
   ],
   "metadata": {
    "collapsed": false,
    "pycharm": {
     "name": "#%%\n"
    }
   }
  },
  {
   "cell_type": "code",
   "execution_count": 2,
   "outputs": [],
   "source": [
    "from IPython.display import clear_output\n",
    "from time import sleep\n",
    "from docplex.mp.model import Model\n",
    "from typing import Tuple, Optional, Union\n",
    "from atm.flight.flight import Flight\n",
    "from atm.flight.scenario import Scenario\n",
    "from atm.separation.base import Separation\n",
    "\n",
    "from PIL import Image"
   ],
   "metadata": {
    "collapsed": false,
    "pycharm": {
     "name": "#%%\n"
    }
   }
  },
  {
   "cell_type": "code",
   "execution_count": 3,
   "outputs": [],
   "source": [
    "parameter = dict(\n",
    "    interval=180,\n",
    "    window=dict(\n",
    "        min=int(10*60),\n",
    "        shift=int(3*60),\n",
    "    ),\n",
    "    mode=\"M\",\n",
    "    margin=dict(\n",
    "        min=1500,\n",
    "        shift=int(5*60)\n",
    "    ),\n",
    ")\n",
    "\n",
    "MERGIN = 10\n",
    "separation = recat.TBS"
   ],
   "metadata": {
    "collapsed": false,
    "pycharm": {
     "name": "#%%\n"
    }
   }
  },
  {
   "cell_type": "code",
   "execution_count": 4,
   "outputs": [],
   "source": [
    "def fcfs_assign(stripes):\n",
    "    last_vol = DUMMY_FLIGHT_RECAT\n",
    "    last_time = last_vol.de\n",
    "    for stripe in stripes:\n",
    "        vol = stripe.vol\n",
    "        sep = separation(last_vol, vol)\n",
    "        time = np.max([last_time + sep + MERGIN, vol.ready])\n",
    "\n",
    "        stripe.assign_time(time)\n",
    "        stripe.assign_rwy(\"34L\")\n",
    "\n",
    "        last_vol = vol\n",
    "        last_time = time\n",
    "\n",
    "    return stripes\n"
   ],
   "metadata": {
    "collapsed": false,
    "pycharm": {
     "name": "#%%\n"
    }
   }
  },
  {
   "cell_type": "code",
   "execution_count": 5,
   "outputs": [],
   "source": [
    "def ix(vol1: Flight, vol2: Optional[Flight] = None) -> Union[str, Tuple[str, str]]:\n",
    "    if vol2 is None:\n",
    "        return vol1.code\n",
    "\n",
    "    return vol1.code, vol2.code"
   ],
   "metadata": {
    "collapsed": false,
    "pycharm": {
     "name": "#%%\n"
    }
   }
  },
  {
   "cell_type": "code",
   "execution_count": 6,
   "outputs": [],
   "source": [
    "def build_model(vols: Scenario, sep: Separation) -> Tuple[Model, tuple, tuple]:\n",
    "    M: int = 1000  # big-M\n",
    "\n",
    "    m = Model(\"CADM\")\n",
    "\n",
    "    # define variables\n",
    "    # assign time\n",
    "    ts = {\n",
    "        vol.code: m.integer_var(lb=vol.ready, ub=vol.due, name=f\"T_{vol.code}\")\n",
    "        for vol in vols\n",
    "    }\n",
    "    # leader flag\n",
    "    # y = 1 if vol1 leads vol2\n",
    "    ys = {\n",
    "        ix(vol1, vol2): m.binary_var(name=f\"y_{vol1.code}_{vol2.code}\")\n",
    "        for vol1 in vols\n",
    "        for vol2 in vols\n",
    "        if not vol1 == vol2\n",
    "    }\n",
    "\n",
    "    # constrains\n",
    "    [\n",
    "        m.add_constraint(ts[ix(vol2)] >= ts[ix(vol1)] + sep(vol1, vol2) - M * (1 - ys[ix(vol1, vol2)]))\n",
    "        for vol1 in vols\n",
    "        for vol2 in vols\n",
    "        if not vol1 == vol2\n",
    "    ]\n",
    "\n",
    "    [\n",
    "        m.add_constraint(ys[ix(vol1, vol2)] + ys[ix(vol2, vol1)] == 1)\n",
    "        for vol1 in vols\n",
    "        for vol2 in vols\n",
    "        if vol1 < vol2\n",
    "    ]\n",
    "\n",
    "    m.minimize(m.sum([\n",
    "        ts[ix(vol)] - vol.ready\n",
    "        for vol in vols\n",
    "    ]))\n",
    "\n",
    "    return m, ts, ys"
   ],
   "metadata": {
    "collapsed": false,
    "pycharm": {
     "name": "#%%\n"
    }
   }
  },
  {
   "cell_type": "code",
   "execution_count": 58,
   "outputs": [],
   "source": [
    "def opt_assign(time, stripes):\n",
    "    scenario = Scenario([\n",
    "        vol.vol for vol in stripes # if vol.de >= time + 5 * 60\n",
    "    ])\n",
    "    m, ts, ys = build_model(scenario, separation)\n",
    "    m.solve()\n",
    "\n",
    "    for stripe, t in zip(stripes, ts.values()):\n",
    "        stripe.assign_time(int(t.solution_value))\n",
    "        stripe.assign_rwy(\"34L\")\n",
    "\n",
    "    return stripes\n"
   ],
   "metadata": {
    "collapsed": false,
    "pycharm": {
     "name": "#%%\n"
    }
   }
  },
  {
   "cell_type": "code",
   "execution_count": 44,
   "outputs": [],
   "source": [
    "def draw(time, stripes):\n",
    "    time_shift = time - 5 * 60\n",
    "    num_vol = len(stripes)\n",
    "    height = 1\n",
    "    timespan = 60  # min\n",
    "    timelimit = 10 # min\n",
    "\n",
    "    if num_vol == 0:\n",
    "        fig_height = 1\n",
    "    else:\n",
    "        fig_height = num_vol * 0.5 + 0.5\n",
    "    fig, ax = plt.subplots(figsize=(20, fig_height))\n",
    "    for i, vol in enumerate(stripes):\n",
    "        i = num_vol - i - 1\n",
    "        tde = vol.de\n",
    "        tto = vol.to\n",
    "        window_color = \"r\" if vol.ope == Operation.A else \"b\"\n",
    "        window = ptc.Rectangle(\n",
    "            (tde, height*(i+0.1)), tto - tde, height*0.8, color=window_color, alpha=0.2\n",
    "        )\n",
    "        window_border = ptc.Rectangle(\n",
    "            (tde, height*(i+0.1)), tto - tde, height*0.8, color=\"k\", alpha=1, fill=False, linewidth=2\n",
    "        )\n",
    "        tasign = vol.time\n",
    "        ax.plot([tasign, tasign], [i*height, (i+1)*height], color=window_color, linewidth=3)\n",
    "        ax.add_patch(window)\n",
    "        ax.add_patch(window_border)\n",
    "\n",
    "        code = vol.vol.code\n",
    "        plt.text(tto+30, height*(i+0.3), code+\"(\"+str(vol.cat)+\")\"+\"|\"+vol.rwy, fontsize=30)\n",
    "\n",
    "    for i in range(num_vol - 1):\n",
    "        vol1 = stripes[i].vol\n",
    "        vol2 = stripes[i+1].vol\n",
    "        tassign = stripes[i].time\n",
    "        sep = separation(vol1, vol2)\n",
    "\n",
    "        for k in range(num_vol):\n",
    "            if i > k:\n",
    "                continue\n",
    "            k = num_vol - k - 1\n",
    "            window_sep = ptc.Rectangle(\n",
    "                (tassign, height*+k), sep, height, color=\"k\", alpha=0.1\n",
    "            )\n",
    "            ax.add_patch(window_sep)\n",
    "\n",
    "    timelimit = time + timelimit * 60\n",
    "    min_height = height * (1 if num_vol == 0 else num_vol)\n",
    "    ax.plot([time, time], [0, min_height], linewidth=3, linestyle=\"-\", color=\"orange\")\n",
    "    ax.plot([timelimit, timelimit], [0, min_height], linewidth=3, linestyle=\"--\", color=\"orange\")\n",
    "    ax.set_xlim(time_shift, time + timespan * 60)\n",
    "    ax.set_ylim(0, min_height)\n",
    "    xticks = np.arange((time + timespan * 60) // 300 + 1) * 300\n",
    "    xticks = xticks[xticks >= time_shift]\n",
    "    ax.set_xticks(xticks)\n",
    "    ax.set_yticks([i*height for i in range(num_vol+1)])\n",
    "    plt.grid()\n",
    "    plt.show()\n",
    "\n",
    "    return fig\n"
   ],
   "metadata": {
    "collapsed": false,
    "pycharm": {
     "name": "#%%\n"
    }
   }
  },
  {
   "cell_type": "code",
   "execution_count": 48,
   "outputs": [
    {
     "data": {
      "text/plain": "<Figure size 1440x396 with 1 Axes>",
      "image/png": "[encoded data removed]"
     },
     "metadata": {
      "needs_background": "light"
     },
     "output_type": "display_data"
    },
    {
     "ename": "TypeError",
     "evalue": "'>=' not supported between instances of 'NoneType' and 'float'",
     "output_type": "error",
     "traceback": [
      "\u001B[0;31m---------------------------------------------------------------------------\u001B[0m",
      "\u001B[0;31mTypeError\u001B[0m                                 Traceback (most recent call last)",
      "Input \u001B[0;32mIn [48]\u001B[0m, in \u001B[0;36m<cell line: 7>\u001B[0;34m()\u001B[0m\n\u001B[1;32m      6\u001B[0m rgen \u001B[38;5;241m=\u001B[39m RealTimeScenarioGenerator(parameter)\n\u001B[1;32m      7\u001B[0m \u001B[38;5;28;01mfor\u001B[39;00m time \u001B[38;5;129;01min\u001B[39;00m xsim\u001B[38;5;241m.\u001B[39mgenerate_step_time(due \u001B[38;5;241m*\u001B[39m \u001B[38;5;241m60\u001B[39m, dt):\n\u001B[0;32m----> 8\u001B[0m     queue \u001B[38;5;241m=\u001B[39m [vol \u001B[38;5;28;01mfor\u001B[39;00m vol \u001B[38;5;129;01min\u001B[39;00m queue \u001B[38;5;28;01mif\u001B[39;00m vol\u001B[38;5;241m.\u001B[39mtime \u001B[38;5;241m>\u001B[39m\u001B[38;5;241m=\u001B[39m time \u001B[38;5;241m-\u001B[39m \u001B[38;5;241m5\u001B[39m \u001B[38;5;241m*\u001B[39m \u001B[38;5;241m60\u001B[39m]\n\u001B[1;32m     10\u001B[0m     vol \u001B[38;5;241m=\u001B[39m rgen(dt\u001B[38;5;241m=\u001B[39mdt)\n\u001B[1;32m     11\u001B[0m     \u001B[38;5;28;01mif\u001B[39;00m vol \u001B[38;5;129;01mis\u001B[39;00m \u001B[38;5;129;01mnot\u001B[39;00m \u001B[38;5;28;01mNone\u001B[39;00m:\n",
      "Input \u001B[0;32mIn [48]\u001B[0m, in \u001B[0;36m<listcomp>\u001B[0;34m(.0)\u001B[0m\n\u001B[1;32m      6\u001B[0m rgen \u001B[38;5;241m=\u001B[39m RealTimeScenarioGenerator(parameter)\n\u001B[1;32m      7\u001B[0m \u001B[38;5;28;01mfor\u001B[39;00m time \u001B[38;5;129;01min\u001B[39;00m xsim\u001B[38;5;241m.\u001B[39mgenerate_step_time(due \u001B[38;5;241m*\u001B[39m \u001B[38;5;241m60\u001B[39m, dt):\n\u001B[0;32m----> 8\u001B[0m     queue \u001B[38;5;241m=\u001B[39m [vol \u001B[38;5;28;01mfor\u001B[39;00m vol \u001B[38;5;129;01min\u001B[39;00m queue \u001B[38;5;28;01mif\u001B[39;00m \u001B[43mvol\u001B[49m\u001B[38;5;241;43m.\u001B[39;49m\u001B[43mtime\u001B[49m\u001B[43m \u001B[49m\u001B[38;5;241;43m>\u001B[39;49m\u001B[38;5;241;43m=\u001B[39;49m\u001B[43m \u001B[49m\u001B[43mtime\u001B[49m\u001B[43m \u001B[49m\u001B[38;5;241;43m-\u001B[39;49m\u001B[43m \u001B[49m\u001B[38;5;241;43m5\u001B[39;49m\u001B[43m \u001B[49m\u001B[38;5;241;43m*\u001B[39;49m\u001B[43m \u001B[49m\u001B[38;5;241;43m60\u001B[39;49m]\n\u001B[1;32m     10\u001B[0m     vol \u001B[38;5;241m=\u001B[39m rgen(dt\u001B[38;5;241m=\u001B[39mdt)\n\u001B[1;32m     11\u001B[0m     \u001B[38;5;28;01mif\u001B[39;00m vol \u001B[38;5;129;01mis\u001B[39;00m \u001B[38;5;129;01mnot\u001B[39;00m \u001B[38;5;28;01mNone\u001B[39;00m:\n",
      "\u001B[0;31mTypeError\u001B[0m: '>=' not supported between instances of 'NoneType' and 'float'"
     ]
    }
   ],
   "source": [
    "dt = 1     # sec\n",
    "due = 60   # min\n",
    "queue = []\n",
    "figs = []\n",
    "\n",
    "rgen = RealTimeScenarioGenerator(parameter)\n",
    "for time in xsim.generate_step_time(due * 60, dt):\n",
    "    queue = [vol for vol in queue if vol.time >= time - 5 * 60]\n",
    "\n",
    "    vol = rgen(dt=dt)\n",
    "    if vol is not None:\n",
    "        vol = Stripe(vol)\n",
    "        queue.append(vol)\n",
    "        # queue = fcfs_assign(queue)\n",
    "        queue = opt_assign(time, queue)\n",
    "\n",
    "    if (time % 10) == 0:\n",
    "        clear_output()\n",
    "        fig = draw(time, queue)\n",
    "        figs.append(fig)\n",
    "\n",
    "    sleep(1/200)\n",
    "\n"
   ],
   "metadata": {
    "collapsed": false,
    "pycharm": {
     "name": "#%%\n"
    }
   }
  },
  {
   "cell_type": "code",
   "execution_count": 24,
   "outputs": [
    {
     "data": {
      "text/plain": "[<atm.simulator.stripe.Stripe at 0x163590520>]"
     },
     "execution_count": 24,
     "metadata": {},
     "output_type": "execute_result"
    }
   ],
   "source": [
    "queue"
   ],
   "metadata": {
    "collapsed": false,
    "pycharm": {
     "name": "#%%\n"
    }
   }
  },
  {
   "cell_type": "code",
   "execution_count": 25,
   "outputs": [
    {
     "data": {
      "text/plain": "docplex.mp.solution.SolveSolution(obj=0,values={T_VOL0001:1561})"
     },
     "execution_count": 25,
     "metadata": {},
     "output_type": "execute_result"
    }
   ],
   "source": [
    "scenario = Scenario([\n",
    "    vol.vol for vol in queue if vol.de >= time + 5 * 60\n",
    "])\n",
    "m, ts, ys = build_model(scenario, separation)\n",
    "m.solve()\n"
   ],
   "metadata": {
    "collapsed": false,
    "pycharm": {
     "name": "#%%\n"
    }
   }
  },
  {
   "cell_type": "code",
   "execution_count": 31,
   "outputs": [
    {
     "data": {
      "text/plain": "1561.0"
     },
     "execution_count": 31,
     "metadata": {},
     "output_type": "execute_result"
    }
   ],
   "source": [
    "ts[queue[0].vol.code].solution_value\n"
   ],
   "metadata": {
    "collapsed": false,
    "pycharm": {
     "name": "#%%\n"
    }
   }
  },
  {
   "cell_type": "code",
   "execution_count": 33,
   "outputs": [
    {
     "ename": "KeyError",
     "evalue": "'VOL0001'",
     "output_type": "error",
     "traceback": [
      "\u001B[0;31m---------------------------------------------------------------------------\u001B[0m",
      "\u001B[0;31mKeyError\u001B[0m                                  Traceback (most recent call last)",
      "Input \u001B[0;32mIn [33]\u001B[0m, in \u001B[0;36m<cell line: 1>\u001B[0;34m()\u001B[0m\n\u001B[0;32m----> 1\u001B[0m \u001B[43mys\u001B[49m\u001B[43m[\u001B[49m\u001B[43mqueue\u001B[49m\u001B[43m[\u001B[49m\u001B[38;5;241;43m0\u001B[39;49m\u001B[43m]\u001B[49m\u001B[38;5;241;43m.\u001B[39;49m\u001B[43mvol\u001B[49m\u001B[38;5;241;43m.\u001B[39;49m\u001B[43mcode\u001B[49m\u001B[43m]\u001B[49m\u001B[38;5;241m.\u001B[39msolution_value\n",
      "\u001B[0;31mKeyError\u001B[0m: 'VOL0001'"
     ]
    }
   ],
   "source": [
    "ys[queue[0].vol.code].solution_value"
   ],
   "metadata": {
    "collapsed": false,
    "pycharm": {
     "name": "#%%\n"
    }
   }
  },
  {
   "cell_type": "code",
   "execution_count": 40,
   "outputs": [
    {
     "name": "stdout",
     "output_type": "stream",
     "text": [
      "1561.0\n"
     ]
    }
   ],
   "source": [
    "for key, val in ts.items():\n",
    "    print(val.solution_value)\n"
   ],
   "metadata": {
    "collapsed": false,
    "pycharm": {
     "name": "#%%\n"
    }
   }
  },
  {
   "cell_type": "code",
   "execution_count": 60,
   "outputs": [],
   "source": [
    "parameter = dict(\n",
    "  interval=120,\n",
    "  window=300,\n",
    "  category=\"recat\",\n",
    "  mode=\"mix\",\n",
    ")\n",
    "from atm.flight.generator import ScenarioGenerator\n",
    "sgen = ScenarioGenerator(parameter)"
   ],
   "metadata": {
    "collapsed": false,
    "pycharm": {
     "name": "#%%\n"
    }
   }
  },
  {
   "cell_type": "code",
   "execution_count": 66,
   "outputs": [
    {
     "data": {
      "text/plain": "      code  ready  due category operation\n0  VOL0001     37  337        C         A\n1  VOL0002     76  376        F         D\n2  VOL0003    154  454        A         A\n3  VOL0004    215  515        B         A\n4  VOL0005    220  520        E         D",
      "text/html": "<div>\n<style scoped>\n    .dataframe tbody tr th:only-of-type {\n        vertical-align: middle;\n    }\n\n    .dataframe tbody tr th {\n        vertical-align: top;\n    }\n\n    .dataframe thead th {\n        text-align: right;\n    }\n</style>\n<table border=\"1\" class=\"dataframe\">\n  <thead>\n    <tr style=\"text-align: right;\">\n      <th></th>\n      <th>code</th>\n      <th>ready</th>\n      <th>due</th>\n      <th>category</th>\n      <th>operation</th>\n    </tr>\n  </thead>\n  <tbody>\n    <tr>\n      <th>0</th>\n      <td>VOL0001</td>\n      <td>37</td>\n      <td>337</td>\n      <td>C</td>\n      <td>A</td>\n    </tr>\n    <tr>\n      <th>1</th>\n      <td>VOL0002</td>\n      <td>76</td>\n      <td>376</td>\n      <td>F</td>\n      <td>D</td>\n    </tr>\n    <tr>\n      <th>2</th>\n      <td>VOL0003</td>\n      <td>154</td>\n      <td>454</td>\n      <td>A</td>\n      <td>A</td>\n    </tr>\n    <tr>\n      <th>3</th>\n      <td>VOL0004</td>\n      <td>215</td>\n      <td>515</td>\n      <td>B</td>\n      <td>A</td>\n    </tr>\n    <tr>\n      <th>4</th>\n      <td>VOL0005</td>\n      <td>220</td>\n      <td>520</td>\n      <td>E</td>\n      <td>D</td>\n    </tr>\n  </tbody>\n</table>\n</div>"
     },
     "execution_count": 66,
     "metadata": {},
     "output_type": "execute_result"
    }
   ],
   "source": [
    "vols = sgen(5)\n",
    "queue = [Stripe(vol) for vol in vols]\n",
    "vols.to_dataframe()"
   ],
   "metadata": {
    "collapsed": false,
    "pycharm": {
     "name": "#%%\n"
    }
   }
  },
  {
   "cell_type": "code",
   "execution_count": 67,
   "outputs": [
    {
     "data": {
      "text/plain": "[37, 227, 319, 432, 588]"
     },
     "execution_count": 67,
     "metadata": {},
     "output_type": "execute_result"
    }
   ],
   "source": [
    "sol_fcfs = fcfs_assign(queue)\n",
    "sol_times_fcfs = [s.time for s in sol_fcfs]\n",
    "sol_times_fcfs\n"
   ],
   "metadata": {
    "collapsed": false,
    "pycharm": {
     "name": "#%%\n"
    }
   }
  },
  {
   "cell_type": "code",
   "execution_count": 68,
   "outputs": [
    {
     "data": {
      "text/plain": "[158, 76, 297, 233, 451]"
     },
     "execution_count": 68,
     "metadata": {},
     "output_type": "execute_result"
    }
   ],
   "source": [
    "sol_opt = opt_assign(0, queue)\n",
    "sol_times_opt = [s.time for s in sol_opt]\n",
    "sol_times_opt\n"
   ],
   "metadata": {
    "collapsed": false,
    "pycharm": {
     "name": "#%%\n"
    }
   }
  },
  {
   "cell_type": "code",
   "execution_count": 71,
   "outputs": [
    {
     "data": {
      "text/plain": "      code  ready  due category operation  fcfs  opt  dfcfs  dopt\n0  VOL0001     37  337        C         A    37  158      0   121\n1  VOL0002     76  376        F         D   227   76    151     0\n2  VOL0003    154  454        A         A   319  297    165   143\n3  VOL0004    215  515        B         A   432  233    217    18\n4  VOL0005    220  520        E         D   588  451    368   231",
      "text/html": "<div>\n<style scoped>\n    .dataframe tbody tr th:only-of-type {\n        vertical-align: middle;\n    }\n\n    .dataframe tbody tr th {\n        vertical-align: top;\n    }\n\n    .dataframe thead th {\n        text-align: right;\n    }\n</style>\n<table border=\"1\" class=\"dataframe\">\n  <thead>\n    <tr style=\"text-align: right;\">\n      <th></th>\n      <th>code</th>\n      <th>ready</th>\n      <th>due</th>\n      <th>category</th>\n      <th>operation</th>\n      <th>fcfs</th>\n      <th>opt</th>\n      <th>dfcfs</th>\n      <th>dopt</th>\n    </tr>\n  </thead>\n  <tbody>\n    <tr>\n      <th>0</th>\n      <td>VOL0001</td>\n      <td>37</td>\n      <td>337</td>\n      <td>C</td>\n      <td>A</td>\n      <td>37</td>\n      <td>158</td>\n      <td>0</td>\n      <td>121</td>\n    </tr>\n    <tr>\n      <th>1</th>\n      <td>VOL0002</td>\n      <td>76</td>\n      <td>376</td>\n      <td>F</td>\n      <td>D</td>\n      <td>227</td>\n      <td>76</td>\n      <td>151</td>\n      <td>0</td>\n    </tr>\n    <tr>\n      <th>2</th>\n      <td>VOL0003</td>\n      <td>154</td>\n      <td>454</td>\n      <td>A</td>\n      <td>A</td>\n      <td>319</td>\n      <td>297</td>\n      <td>165</td>\n      <td>143</td>\n    </tr>\n    <tr>\n      <th>3</th>\n      <td>VOL0004</td>\n      <td>215</td>\n      <td>515</td>\n      <td>B</td>\n      <td>A</td>\n      <td>432</td>\n      <td>233</td>\n      <td>217</td>\n      <td>18</td>\n    </tr>\n    <tr>\n      <th>4</th>\n      <td>VOL0005</td>\n      <td>220</td>\n      <td>520</td>\n      <td>E</td>\n      <td>D</td>\n      <td>588</td>\n      <td>451</td>\n      <td>368</td>\n      <td>231</td>\n    </tr>\n  </tbody>\n</table>\n</div>"
     },
     "execution_count": 71,
     "metadata": {},
     "output_type": "execute_result"
    }
   ],
   "source": [
    "sol = vols.to_dataframe()\n",
    "sol[\"fcfs\"] = sol_times_fcfs\n",
    "sol[\"opt\"] = sol_times_opt\n",
    "sol[\"dfcfs\"] = sol[\"fcfs\"] - sol[\"ready\"]\n",
    "sol[\"dopt\"] = sol[\"opt\"] - sol[\"ready\"]\n",
    "sol"
   ],
   "metadata": {
    "collapsed": false,
    "pycharm": {
     "name": "#%%\n"
    }
   }
  },
  {
   "cell_type": "code",
   "execution_count": 73,
   "outputs": [
    {
     "name": "stdout",
     "output_type": "stream",
     "text": [
      "dfcfs: 180.2\n",
      "dopt: 102.6\n"
     ]
    }
   ],
   "source": [
    "print(\"dfcfs:\", sol.dfcfs.mean())\n",
    "print(\"dopt:\", sol.dopt.mean())\n"
   ],
   "metadata": {
    "collapsed": false,
    "pycharm": {
     "name": "#%%\n"
    }
   }
  },
  {
   "cell_type": "code",
   "execution_count": null,
   "outputs": [],
   "source": [],
   "metadata": {
    "collapsed": false,
    "pycharm": {
     "name": "#%%\n"
    }
   }
  }
 ],
 "metadata": {
  "kernelspec": {
   "display_name": "Python 3",
   "language": "python",
   "name": "python3"
  },
  "language_info": {
   "codemirror_mode": {
    "name": "ipython",
    "version": 2
   },
   "file_extension": ".py",
   "mimetype": "text/x-python",
   "name": "python",
   "nbconvert_exporter": "python",
   "pygments_lexer": "ipython2",
   "version": "2.7.6"
  }
 },
 "nbformat": 4,
 "nbformat_minor": 0
}